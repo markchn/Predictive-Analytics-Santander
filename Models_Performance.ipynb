{
  "nbformat": 4,
  "nbformat_minor": 0,
  "metadata": {
    "colab": {
      "name": "Models Performance.ipynb",
      "provenance": [],
      "collapsed_sections": [
        "XJbRXYVH5Az9",
        "cEQ66yqpm568",
        "qwAozch4pSOF",
        "u49FqhDTrm90",
        "jucJn4wgR5Cb",
        "wdv7r-UESH2q",
        "Wu_gZOQLv0da",
        "Ux4LiXhiwrR1",
        "vrP2wIknQvxr"
      ]
    },
    "kernelspec": {
      "name": "python3",
      "display_name": "Python 3"
    },
    "language_info": {
      "name": "python"
    }
  },
  "cells": [
    {
      "cell_type": "markdown",
      "metadata": {
        "id": "70GtCjJaLJMQ"
      },
      "source": [
        "###Importing Libraries"
      ]
    },
    {
      "cell_type": "code",
      "metadata": {
        "id": "j_QOb4usKZ50"
      },
      "source": [
        "#libraries\n",
        "\n",
        "import gc\n",
        "import os\n",
        "import logging\n",
        "import datetime\n",
        "import warnings\n",
        "import numpy as np\n",
        "import pandas as pd\n",
        "import seaborn as sns\n",
        "from tqdm import tqdm_notebook\n",
        "import matplotlib.pyplot as plt\n",
        "from sklearn.metrics import mean_squared_error,roc_auc_score, roc_curve,roc_curve, auc\n",
        "from collections import Counter\n",
        "from math import log\n",
        "\n",
        "import math\n",
        "from sklearn.model_selection import RandomizedSearchCV,StratifiedKFold,train_test_split\n",
        "from sklearn.preprocessing import StandardScaler\n",
        "from sklearn.compose import ColumnTransformer\n",
        "from sklearn.ensemble import RandomForestRegressor\n",
        "from sklearn.compose import ColumnTransformer\n",
        "from sklearn.model_selection import GridSearchCV, cross_val_score, KFold,cross_validate\n",
        "import tensorflow.keras.backend as K\n",
        "from tensorflow.keras.models import Sequential\n",
        "from tensorflow.keras.layers import Dense\n",
        "from tensorflow.keras.wrappers.scikit_learn import KerasRegressor\n",
        "from sklearn import ensemble\n",
        "from sklearn.metrics import f1_score,precision_score,recall_score,make_scorer,accuracy_score\n",
        "from sklearn.preprocessing import PowerTransformer\n",
        "from random import randrange, uniform\n",
        "from scipy.stats import chi2_contingency\n",
        "\n",
        "from sklearn.linear_model import LogisticRegression\n",
        "import lightgbm as lgb\n",
        "from sklearn.naive_bayes import GaussianNB\n",
        "from sklearn.ensemble import RandomForestClassifier\n",
        "import xgboost as xgb\n",
        "\n",
        "%matplotlib inline\n",
        "warnings.filterwarnings('ignore')"
      ],
      "execution_count": null,
      "outputs": []
    },
    {
      "cell_type": "markdown",
      "metadata": {
        "id": "XJbRXYVH5Az9"
      },
      "source": [
        "###Getting data"
      ]
    },
    {
      "cell_type": "code",
      "metadata": {
        "colab": {
          "resources": {
            "http://localhost:8080/nbextensions/google.colab/files.js": {
              "data": "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",
              "ok": true,
              "headers": [
                [
                  "content-type",
                  "application/javascript"
                ]
              ],
              "status": 200,
              "status_text": ""
            }
          },
          "base_uri": "https://localhost:8080/",
          "height": 73
        },
        "id": "vvTuMF02UsEJ",
        "outputId": "bbafd5f6-c8db-4d82-ea98-43b98a141372"
      },
      "source": [
        "!pip install -q kaggle\n",
        "from google.colab import files\n",
        "uploaded = files.upload()"
      ],
      "execution_count": null,
      "outputs": [
        {
          "output_type": "display_data",
          "data": {
            "text/html": [
              "\n",
              "     <input type=\"file\" id=\"files-99aea6a3-1b56-421a-b742-a5a262038984\" name=\"files[]\" multiple disabled\n",
              "        style=\"border:none\" />\n",
              "     <output id=\"result-99aea6a3-1b56-421a-b742-a5a262038984\">\n",
              "      Upload widget is only available when the cell has been executed in the\n",
              "      current browser session. Please rerun this cell to enable.\n",
              "      </output>\n",
              "      <script src=\"/nbextensions/google.colab/files.js\"></script> "
            ],
            "text/plain": [
              "<IPython.core.display.HTML object>"
            ]
          },
          "metadata": {
            "tags": []
          }
        },
        {
          "output_type": "stream",
          "text": [
            "Saving kaggle.json to kaggle.json\n"
          ],
          "name": "stdout"
        }
      ]
    },
    {
      "cell_type": "code",
      "metadata": {
        "id": "2NYCxF9tU7T_",
        "colab": {
          "base_uri": "https://localhost:8080/"
        },
        "outputId": "294df088-b2c0-4dea-f902-43ef4a4cd341"
      },
      "source": [
        "#Moving authentication file to required location\n",
        "!cp kaggle.json /root/.kaggle/\n",
        "!chmod 600 /root/.kaggle/kaggle.json\n",
        "\n",
        "!kaggle competitions download -c santander-customer-transaction-prediction"
      ],
      "execution_count": null,
      "outputs": [
        {
          "output_type": "stream",
          "text": [
            "Warning: Looks like you're using an outdated API Version, please consider updating (server 1.5.12 / client 1.5.4)\n",
            "Downloading sample_submission.csv.zip to /content\n",
            "  0% 0.00/462k [00:00<?, ?B/s]\n",
            "100% 462k/462k [00:00<00:00, 67.9MB/s]\n",
            "Downloading test.csv.zip to /content\n",
            " 94% 117M/125M [00:01<00:00, 64.1MB/s]\n",
            "100% 125M/125M [00:01<00:00, 85.9MB/s]\n",
            "Downloading train.csv.zip to /content\n",
            " 95% 119M/125M [00:01<00:00, 120MB/s] \n",
            "100% 125M/125M [00:01<00:00, 95.7MB/s]\n"
          ],
          "name": "stdout"
        }
      ]
    },
    {
      "cell_type": "code",
      "metadata": {
        "id": "qQEMKxE8ga3W"
      },
      "source": [
        "# Import the test and train datasets into pandas dataframe\n",
        "train = pd.read_csv('train.csv.zip', compression='zip', header=0, sep=',', quotechar='\"')\n",
        "test = pd.read_csv('test.csv.zip', compression='zip', header=0, sep=',', quotechar='\"')"
      ],
      "execution_count": null,
      "outputs": []
    },
    {
      "cell_type": "markdown",
      "metadata": {
        "id": "cEQ66yqpm568"
      },
      "source": [
        "###Feature Engineering"
      ]
    },
    {
      "cell_type": "code",
      "metadata": {
        "id": "ix3uWHMlmD9v"
      },
      "source": [
        "#removing duplicates\n",
        "features = train.columns.values[2:202]\n",
        "unique_max_train = []\n",
        "unique_max_test = []\n",
        "for feature in features:\n",
        "  values = train[feature].value_counts()\n",
        "  unique_max_train.append([feature, values.max(), values.idxmax()])\n",
        "  values = test[feature].value_counts()\n",
        "  unique_max_test.append([feature, values.max(), values.idxmax()])"
      ],
      "execution_count": null,
      "outputs": []
    },
    {
      "cell_type": "code",
      "metadata": {
        "id": "f5mnjpYgnEjG"
      },
      "source": [
        "#Adding new feature columns\n",
        "idx = features = train.columns.values[2:202]\n",
        "for df in [test, train]:\n",
        "  df['sum'] = df[idx].sum(axis=1)  \n",
        "  df['min'] = df[idx].min(axis=1)\n",
        "  df['max'] = df[idx].max(axis=1)\n",
        "  df['mean'] = df[idx].mean(axis=1)\n",
        "  df['std'] = df[idx].std(axis=1)\n",
        "  df['skew'] = df[idx].skew(axis=1)\n",
        "  df['kurt'] = df[idx].kurtosis(axis=1)\n",
        "  df['med'] = df[idx].median(axis=1)"
      ],
      "execution_count": null,
      "outputs": []
    },
    {
      "cell_type": "code",
      "metadata": {
        "id": "usJJemjDnMq_"
      },
      "source": [
        "train.drop(['kurt'],axis=1,inplace=True)"
      ],
      "execution_count": null,
      "outputs": []
    },
    {
      "cell_type": "code",
      "metadata": {
        "colab": {
          "base_uri": "https://localhost:8080/"
        },
        "id": "-uomwQjOnPPj",
        "outputId": "30180574-0372-4267-9d9b-1837c46f566a"
      },
      "source": [
        "train['target'].value_counts()"
      ],
      "execution_count": null,
      "outputs": [
        {
          "output_type": "execute_result",
          "data": {
            "text/plain": [
              "0    179902\n",
              "1     20098\n",
              "Name: target, dtype: int64"
            ]
          },
          "metadata": {
            "tags": []
          },
          "execution_count": 17
        }
      ]
    },
    {
      "cell_type": "code",
      "metadata": {
        "id": "LNlPUy1SnPM5"
      },
      "source": [
        "test.drop(['kurt','ID_code'],axis=1,inplace=True)"
      ],
      "execution_count": null,
      "outputs": []
    },
    {
      "cell_type": "markdown",
      "metadata": {
        "id": "qwAozch4pSOF"
      },
      "source": [
        "##Models"
      ]
    },
    {
      "cell_type": "markdown",
      "metadata": {
        "id": "u49FqhDTrm90"
      },
      "source": [
        "###LR"
      ]
    },
    {
      "cell_type": "markdown",
      "metadata": {
        "id": "jucJn4wgR5Cb"
      },
      "source": [
        "####Data transformation to optimize performance of LR"
      ]
    },
    {
      "cell_type": "code",
      "metadata": {
        "id": "kTpqcuSNpYei"
      },
      "source": [
        "trans =pd.read_csv('train.csv.zip', compression='zip', header=0, sep=',', quotechar='\"')"
      ],
      "execution_count": null,
      "outputs": []
    },
    {
      "cell_type": "code",
      "metadata": {
        "id": "wylCGQ7hpYcJ"
      },
      "source": [
        "for i in range(2,202):\n",
        "  q75, q25 = np.percentile(trans.iloc[:,i], [75 ,25])\n",
        "  iqr = q75 - q25\n",
        "  min = q25 - (iqr*1.5)\n",
        "  max = q75 + (iqr*1.5)\n",
        "  trans = trans.drop(trans[trans.iloc[:,i] < min].index)\n",
        "  trans = trans.drop(trans[trans.iloc[:,i] > max].index)"
      ],
      "execution_count": null,
      "outputs": []
    },
    {
      "cell_type": "code",
      "metadata": {
        "colab": {
          "base_uri": "https://localhost:8080/"
        },
        "id": "zxpcVTeRpYY_",
        "outputId": "d8307bd1-fccd-445c-d6ae-5879ae9c0b4c"
      },
      "source": [
        "trans.shape"
      ],
      "execution_count": null,
      "outputs": [
        {
          "output_type": "execute_result",
          "data": {
            "text/plain": [
              "(175073, 202)"
            ]
          },
          "metadata": {
            "tags": []
          },
          "execution_count": 52
        }
      ]
    },
    {
      "cell_type": "code",
      "metadata": {
        "id": "jeFx79R-sCJE"
      },
      "source": [
        "trans.to_csv(\"outlier values.csv\")\n",
        "trans = trans.drop(trans.columns[0], axis = 1)"
      ],
      "execution_count": null,
      "outputs": []
    },
    {
      "cell_type": "code",
      "metadata": {
        "id": "Dar6_uJosCG3"
      },
      "source": [
        "#Creating training and testing data\n",
        "from  sklearn.model_selection import train_test_split\n",
        "x_train, x_test, y_train, y_test = train_test_split(trans.drop('target',axis=1),\n",
        "                                                    trans['target'], test_size=0.30, \n",
        "                                                    random_state=101)"
      ],
      "execution_count": null,
      "outputs": []
    },
    {
      "cell_type": "code",
      "metadata": {
        "colab": {
          "base_uri": "https://localhost:8080/"
        },
        "id": "AW9XRF01sCEi",
        "outputId": "08a43b13-9f74-47cf-bd4d-7397111aad23"
      },
      "source": [
        "print(x_train.shape)\n",
        "print(x_test.shape)"
      ],
      "execution_count": null,
      "outputs": [
        {
          "output_type": "stream",
          "text": [
            "(122551, 200)\n",
            "(52522, 200)\n"
          ],
          "name": "stdout"
        }
      ]
    },
    {
      "cell_type": "code",
      "metadata": {
        "colab": {
          "base_uri": "https://localhost:8080/",
          "height": 427
        },
        "id": "UhxUrYuRs2Hn",
        "outputId": "36dca656-6b2c-436c-af7b-76fb0ab36083"
      },
      "source": [
        "x_train"
      ],
      "execution_count": null,
      "outputs": [
        {
          "output_type": "execute_result",
          "data": {
            "text/html": [
              "<div>\n",
              "<style scoped>\n",
              "    .dataframe tbody tr th:only-of-type {\n",
              "        vertical-align: middle;\n",
              "    }\n",
              "\n",
              "    .dataframe tbody tr th {\n",
              "        vertical-align: top;\n",
              "    }\n",
              "\n",
              "    .dataframe thead th {\n",
              "        text-align: right;\n",
              "    }\n",
              "</style>\n",
              "<table border=\"1\" class=\"dataframe\">\n",
              "  <thead>\n",
              "    <tr style=\"text-align: right;\">\n",
              "      <th></th>\n",
              "      <th>var_0</th>\n",
              "      <th>var_1</th>\n",
              "      <th>var_2</th>\n",
              "      <th>var_3</th>\n",
              "      <th>var_4</th>\n",
              "      <th>var_5</th>\n",
              "      <th>var_6</th>\n",
              "      <th>var_7</th>\n",
              "      <th>var_8</th>\n",
              "      <th>var_9</th>\n",
              "      <th>var_10</th>\n",
              "      <th>var_11</th>\n",
              "      <th>var_12</th>\n",
              "      <th>var_13</th>\n",
              "      <th>var_14</th>\n",
              "      <th>var_15</th>\n",
              "      <th>var_16</th>\n",
              "      <th>var_17</th>\n",
              "      <th>var_18</th>\n",
              "      <th>var_19</th>\n",
              "      <th>var_20</th>\n",
              "      <th>var_21</th>\n",
              "      <th>var_22</th>\n",
              "      <th>var_23</th>\n",
              "      <th>var_24</th>\n",
              "      <th>var_25</th>\n",
              "      <th>var_26</th>\n",
              "      <th>var_27</th>\n",
              "      <th>var_28</th>\n",
              "      <th>var_29</th>\n",
              "      <th>var_30</th>\n",
              "      <th>var_31</th>\n",
              "      <th>var_32</th>\n",
              "      <th>var_33</th>\n",
              "      <th>var_34</th>\n",
              "      <th>var_35</th>\n",
              "      <th>var_36</th>\n",
              "      <th>var_37</th>\n",
              "      <th>var_38</th>\n",
              "      <th>var_39</th>\n",
              "      <th>...</th>\n",
              "      <th>var_160</th>\n",
              "      <th>var_161</th>\n",
              "      <th>var_162</th>\n",
              "      <th>var_163</th>\n",
              "      <th>var_164</th>\n",
              "      <th>var_165</th>\n",
              "      <th>var_166</th>\n",
              "      <th>var_167</th>\n",
              "      <th>var_168</th>\n",
              "      <th>var_169</th>\n",
              "      <th>var_170</th>\n",
              "      <th>var_171</th>\n",
              "      <th>var_172</th>\n",
              "      <th>var_173</th>\n",
              "      <th>var_174</th>\n",
              "      <th>var_175</th>\n",
              "      <th>var_176</th>\n",
              "      <th>var_177</th>\n",
              "      <th>var_178</th>\n",
              "      <th>var_179</th>\n",
              "      <th>var_180</th>\n",
              "      <th>var_181</th>\n",
              "      <th>var_182</th>\n",
              "      <th>var_183</th>\n",
              "      <th>var_184</th>\n",
              "      <th>var_185</th>\n",
              "      <th>var_186</th>\n",
              "      <th>var_187</th>\n",
              "      <th>var_188</th>\n",
              "      <th>var_189</th>\n",
              "      <th>var_190</th>\n",
              "      <th>var_191</th>\n",
              "      <th>var_192</th>\n",
              "      <th>var_193</th>\n",
              "      <th>var_194</th>\n",
              "      <th>var_195</th>\n",
              "      <th>var_196</th>\n",
              "      <th>var_197</th>\n",
              "      <th>var_198</th>\n",
              "      <th>var_199</th>\n",
              "    </tr>\n",
              "  </thead>\n",
              "  <tbody>\n",
              "    <tr>\n",
              "      <th>84999</th>\n",
              "      <td>9.9026</td>\n",
              "      <td>-7.5640</td>\n",
              "      <td>12.3459</td>\n",
              "      <td>9.0341</td>\n",
              "      <td>13.3910</td>\n",
              "      <td>11.1034</td>\n",
              "      <td>5.7327</td>\n",
              "      <td>18.8606</td>\n",
              "      <td>-3.6940</td>\n",
              "      <td>5.6801</td>\n",
              "      <td>3.1393</td>\n",
              "      <td>8.6526</td>\n",
              "      <td>14.3023</td>\n",
              "      <td>8.8697</td>\n",
              "      <td>4.8441</td>\n",
              "      <td>15.1137</td>\n",
              "      <td>4.7005</td>\n",
              "      <td>-12.6175</td>\n",
              "      <td>10.1042</td>\n",
              "      <td>24.5248</td>\n",
              "      <td>6.5197</td>\n",
              "      <td>14.5162</td>\n",
              "      <td>5.5741</td>\n",
              "      <td>2.9131</td>\n",
              "      <td>11.7110</td>\n",
              "      <td>13.5125</td>\n",
              "      <td>-4.7029</td>\n",
              "      <td>0.6761</td>\n",
              "      <td>6.3576</td>\n",
              "      <td>4.5403</td>\n",
              "      <td>-2.6809</td>\n",
              "      <td>8.3065</td>\n",
              "      <td>4.2618</td>\n",
              "      <td>15.9416</td>\n",
              "      <td>12.0820</td>\n",
              "      <td>-7.1038</td>\n",
              "      <td>0.5958</td>\n",
              "      <td>6.6221</td>\n",
              "      <td>4.8983</td>\n",
              "      <td>-3.4409</td>\n",
              "      <td>...</td>\n",
              "      <td>15.8751</td>\n",
              "      <td>5.7553</td>\n",
              "      <td>5.5322</td>\n",
              "      <td>9.9948</td>\n",
              "      <td>-10.3076</td>\n",
              "      <td>18.7472</td>\n",
              "      <td>2.5191</td>\n",
              "      <td>-4.2438</td>\n",
              "      <td>5.3978</td>\n",
              "      <td>6.1120</td>\n",
              "      <td>-2.4628</td>\n",
              "      <td>-7.7764</td>\n",
              "      <td>11.9537</td>\n",
              "      <td>8.5507</td>\n",
              "      <td>26.9794</td>\n",
              "      <td>10.4426</td>\n",
              "      <td>-5.9211</td>\n",
              "      <td>10.4951</td>\n",
              "      <td>11.5827</td>\n",
              "      <td>6.2951</td>\n",
              "      <td>-10.0580</td>\n",
              "      <td>10.7789</td>\n",
              "      <td>1.3776</td>\n",
              "      <td>10.2420</td>\n",
              "      <td>12.6699</td>\n",
              "      <td>-6.6096</td>\n",
              "      <td>3.8256</td>\n",
              "      <td>7.2281</td>\n",
              "      <td>19.8045</td>\n",
              "      <td>1.7976</td>\n",
              "      <td>6.4452</td>\n",
              "      <td>3.3673</td>\n",
              "      <td>3.5469</td>\n",
              "      <td>10.0076</td>\n",
              "      <td>20.8119</td>\n",
              "      <td>0.2316</td>\n",
              "      <td>1.9427</td>\n",
              "      <td>8.4721</td>\n",
              "      <td>13.9658</td>\n",
              "      <td>5.9969</td>\n",
              "    </tr>\n",
              "    <tr>\n",
              "      <th>93996</th>\n",
              "      <td>13.4418</td>\n",
              "      <td>6.2457</td>\n",
              "      <td>7.8581</td>\n",
              "      <td>9.5325</td>\n",
              "      <td>13.1430</td>\n",
              "      <td>-16.4925</td>\n",
              "      <td>4.0794</td>\n",
              "      <td>16.4086</td>\n",
              "      <td>-1.1415</td>\n",
              "      <td>7.6592</td>\n",
              "      <td>-7.0183</td>\n",
              "      <td>-6.5720</td>\n",
              "      <td>13.9802</td>\n",
              "      <td>7.9693</td>\n",
              "      <td>9.4816</td>\n",
              "      <td>14.8914</td>\n",
              "      <td>8.6335</td>\n",
              "      <td>-8.4533</td>\n",
              "      <td>21.0977</td>\n",
              "      <td>1.3263</td>\n",
              "      <td>13.5994</td>\n",
              "      <td>20.1538</td>\n",
              "      <td>7.6186</td>\n",
              "      <td>1.7935</td>\n",
              "      <td>9.5797</td>\n",
              "      <td>14.0488</td>\n",
              "      <td>0.4224</td>\n",
              "      <td>1.8218</td>\n",
              "      <td>5.4236</td>\n",
              "      <td>11.7326</td>\n",
              "      <td>-13.3003</td>\n",
              "      <td>12.5307</td>\n",
              "      <td>-3.3173</td>\n",
              "      <td>17.4184</td>\n",
              "      <td>11.8115</td>\n",
              "      <td>9.8837</td>\n",
              "      <td>3.6025</td>\n",
              "      <td>9.1948</td>\n",
              "      <td>10.3110</td>\n",
              "      <td>-0.4302</td>\n",
              "      <td>...</td>\n",
              "      <td>19.8547</td>\n",
              "      <td>5.7506</td>\n",
              "      <td>4.8031</td>\n",
              "      <td>10.2954</td>\n",
              "      <td>-5.9347</td>\n",
              "      <td>24.7141</td>\n",
              "      <td>2.8792</td>\n",
              "      <td>0.8735</td>\n",
              "      <td>3.5965</td>\n",
              "      <td>5.2029</td>\n",
              "      <td>5.9075</td>\n",
              "      <td>2.2688</td>\n",
              "      <td>6.5226</td>\n",
              "      <td>1.1604</td>\n",
              "      <td>18.9406</td>\n",
              "      <td>9.7560</td>\n",
              "      <td>3.9454</td>\n",
              "      <td>9.2524</td>\n",
              "      <td>-0.7693</td>\n",
              "      <td>0.8680</td>\n",
              "      <td>-4.5927</td>\n",
              "      <td>12.9026</td>\n",
              "      <td>11.0559</td>\n",
              "      <td>4.9745</td>\n",
              "      <td>21.5223</td>\n",
              "      <td>-9.0039</td>\n",
              "      <td>14.1025</td>\n",
              "      <td>-23.2112</td>\n",
              "      <td>18.2243</td>\n",
              "      <td>0.1992</td>\n",
              "      <td>4.6255</td>\n",
              "      <td>5.8306</td>\n",
              "      <td>2.3304</td>\n",
              "      <td>4.8247</td>\n",
              "      <td>24.0218</td>\n",
              "      <td>0.2577</td>\n",
              "      <td>-1.3856</td>\n",
              "      <td>7.2253</td>\n",
              "      <td>10.9538</td>\n",
              "      <td>14.0932</td>\n",
              "    </tr>\n",
              "    <tr>\n",
              "      <th>54122</th>\n",
              "      <td>7.6075</td>\n",
              "      <td>0.7561</td>\n",
              "      <td>13.7921</td>\n",
              "      <td>7.4513</td>\n",
              "      <td>11.2389</td>\n",
              "      <td>-8.7332</td>\n",
              "      <td>4.7076</td>\n",
              "      <td>12.4610</td>\n",
              "      <td>2.2417</td>\n",
              "      <td>9.3714</td>\n",
              "      <td>-0.7088</td>\n",
              "      <td>3.6898</td>\n",
              "      <td>13.9719</td>\n",
              "      <td>16.0522</td>\n",
              "      <td>7.1361</td>\n",
              "      <td>14.3634</td>\n",
              "      <td>9.9513</td>\n",
              "      <td>3.9464</td>\n",
              "      <td>19.3907</td>\n",
              "      <td>8.8972</td>\n",
              "      <td>17.0848</td>\n",
              "      <td>20.0007</td>\n",
              "      <td>7.8080</td>\n",
              "      <td>3.8038</td>\n",
              "      <td>4.5732</td>\n",
              "      <td>13.7702</td>\n",
              "      <td>-1.3371</td>\n",
              "      <td>-0.2568</td>\n",
              "      <td>5.8212</td>\n",
              "      <td>3.5361</td>\n",
              "      <td>-18.6314</td>\n",
              "      <td>13.1694</td>\n",
              "      <td>-5.3483</td>\n",
              "      <td>18.2560</td>\n",
              "      <td>11.8110</td>\n",
              "      <td>-3.9142</td>\n",
              "      <td>0.4147</td>\n",
              "      <td>8.6197</td>\n",
              "      <td>14.0247</td>\n",
              "      <td>-1.3032</td>\n",
              "      <td>...</td>\n",
              "      <td>25.1042</td>\n",
              "      <td>5.9750</td>\n",
              "      <td>4.3168</td>\n",
              "      <td>12.4982</td>\n",
              "      <td>-8.3991</td>\n",
              "      <td>16.2044</td>\n",
              "      <td>2.9701</td>\n",
              "      <td>-3.7315</td>\n",
              "      <td>2.4977</td>\n",
              "      <td>5.2744</td>\n",
              "      <td>4.5493</td>\n",
              "      <td>7.8027</td>\n",
              "      <td>43.2730</td>\n",
              "      <td>-6.6620</td>\n",
              "      <td>10.7121</td>\n",
              "      <td>11.9272</td>\n",
              "      <td>-11.6274</td>\n",
              "      <td>9.7134</td>\n",
              "      <td>-3.3484</td>\n",
              "      <td>4.7452</td>\n",
              "      <td>-0.0890</td>\n",
              "      <td>10.8046</td>\n",
              "      <td>-8.0025</td>\n",
              "      <td>11.4882</td>\n",
              "      <td>19.4104</td>\n",
              "      <td>-7.2951</td>\n",
              "      <td>11.5741</td>\n",
              "      <td>-16.7702</td>\n",
              "      <td>14.0226</td>\n",
              "      <td>-0.9753</td>\n",
              "      <td>8.8718</td>\n",
              "      <td>9.2503</td>\n",
              "      <td>1.8047</td>\n",
              "      <td>-0.5987</td>\n",
              "      <td>14.7692</td>\n",
              "      <td>-2.6407</td>\n",
              "      <td>2.2857</td>\n",
              "      <td>10.4102</td>\n",
              "      <td>16.7069</td>\n",
              "      <td>-18.3792</td>\n",
              "    </tr>\n",
              "    <tr>\n",
              "      <th>194870</th>\n",
              "      <td>14.8133</td>\n",
              "      <td>-2.0084</td>\n",
              "      <td>15.3357</td>\n",
              "      <td>6.6154</td>\n",
              "      <td>11.9056</td>\n",
              "      <td>-6.0030</td>\n",
              "      <td>5.6675</td>\n",
              "      <td>21.3706</td>\n",
              "      <td>-1.8567</td>\n",
              "      <td>7.1440</td>\n",
              "      <td>-3.5249</td>\n",
              "      <td>11.0165</td>\n",
              "      <td>14.1915</td>\n",
              "      <td>6.4745</td>\n",
              "      <td>8.9752</td>\n",
              "      <td>14.3303</td>\n",
              "      <td>7.4362</td>\n",
              "      <td>-18.9389</td>\n",
              "      <td>6.9760</td>\n",
              "      <td>21.3057</td>\n",
              "      <td>20.5719</td>\n",
              "      <td>30.4256</td>\n",
              "      <td>1.2375</td>\n",
              "      <td>2.4761</td>\n",
              "      <td>13.8961</td>\n",
              "      <td>13.7266</td>\n",
              "      <td>-15.2468</td>\n",
              "      <td>-4.1472</td>\n",
              "      <td>5.6250</td>\n",
              "      <td>9.0027</td>\n",
              "      <td>-20.1597</td>\n",
              "      <td>11.1914</td>\n",
              "      <td>-3.8879</td>\n",
              "      <td>15.6952</td>\n",
              "      <td>11.6586</td>\n",
              "      <td>-3.5848</td>\n",
              "      <td>6.5131</td>\n",
              "      <td>6.9606</td>\n",
              "      <td>13.7591</td>\n",
              "      <td>-2.6622</td>\n",
              "      <td>...</td>\n",
              "      <td>33.4621</td>\n",
              "      <td>5.4211</td>\n",
              "      <td>5.1119</td>\n",
              "      <td>2.2219</td>\n",
              "      <td>-8.3627</td>\n",
              "      <td>20.8078</td>\n",
              "      <td>2.8072</td>\n",
              "      <td>-6.0662</td>\n",
              "      <td>3.9836</td>\n",
              "      <td>6.1503</td>\n",
              "      <td>-2.7752</td>\n",
              "      <td>1.1231</td>\n",
              "      <td>20.1442</td>\n",
              "      <td>9.8275</td>\n",
              "      <td>25.1219</td>\n",
              "      <td>8.6574</td>\n",
              "      <td>-14.3510</td>\n",
              "      <td>10.5844</td>\n",
              "      <td>-8.0290</td>\n",
              "      <td>0.9043</td>\n",
              "      <td>0.6905</td>\n",
              "      <td>11.5419</td>\n",
              "      <td>12.4725</td>\n",
              "      <td>14.4758</td>\n",
              "      <td>18.1290</td>\n",
              "      <td>-0.3633</td>\n",
              "      <td>7.2973</td>\n",
              "      <td>4.8175</td>\n",
              "      <td>13.7715</td>\n",
              "      <td>0.7977</td>\n",
              "      <td>-4.9106</td>\n",
              "      <td>3.7083</td>\n",
              "      <td>1.5973</td>\n",
              "      <td>-1.7463</td>\n",
              "      <td>13.5933</td>\n",
              "      <td>-0.3821</td>\n",
              "      <td>4.6887</td>\n",
              "      <td>9.2920</td>\n",
              "      <td>17.7150</td>\n",
              "      <td>5.0699</td>\n",
              "    </tr>\n",
              "    <tr>\n",
              "      <th>161114</th>\n",
              "      <td>9.5972</td>\n",
              "      <td>6.5295</td>\n",
              "      <td>7.7517</td>\n",
              "      <td>5.7622</td>\n",
              "      <td>10.5638</td>\n",
              "      <td>-6.6728</td>\n",
              "      <td>5.9140</td>\n",
              "      <td>24.5216</td>\n",
              "      <td>-0.5750</td>\n",
              "      <td>6.0351</td>\n",
              "      <td>2.8306</td>\n",
              "      <td>-5.6323</td>\n",
              "      <td>14.1774</td>\n",
              "      <td>14.1566</td>\n",
              "      <td>7.7838</td>\n",
              "      <td>14.7811</td>\n",
              "      <td>8.0105</td>\n",
              "      <td>-13.5393</td>\n",
              "      <td>4.9504</td>\n",
              "      <td>12.7761</td>\n",
              "      <td>9.9073</td>\n",
              "      <td>16.1102</td>\n",
              "      <td>4.8084</td>\n",
              "      <td>2.5610</td>\n",
              "      <td>13.3306</td>\n",
              "      <td>13.2664</td>\n",
              "      <td>-6.7430</td>\n",
              "      <td>-3.5629</td>\n",
              "      <td>4.3634</td>\n",
              "      <td>3.5753</td>\n",
              "      <td>5.2232</td>\n",
              "      <td>11.9624</td>\n",
              "      <td>-0.1162</td>\n",
              "      <td>15.7942</td>\n",
              "      <td>12.2310</td>\n",
              "      <td>12.9526</td>\n",
              "      <td>2.5245</td>\n",
              "      <td>6.0400</td>\n",
              "      <td>6.9010</td>\n",
              "      <td>-1.1859</td>\n",
              "      <td>...</td>\n",
              "      <td>33.0458</td>\n",
              "      <td>5.3549</td>\n",
              "      <td>6.4821</td>\n",
              "      <td>13.7168</td>\n",
              "      <td>-5.7053</td>\n",
              "      <td>22.8150</td>\n",
              "      <td>2.6309</td>\n",
              "      <td>-6.7840</td>\n",
              "      <td>1.8451</td>\n",
              "      <td>5.6257</td>\n",
              "      <td>3.7820</td>\n",
              "      <td>-1.2305</td>\n",
              "      <td>19.0181</td>\n",
              "      <td>1.4113</td>\n",
              "      <td>21.3454</td>\n",
              "      <td>13.1207</td>\n",
              "      <td>-5.7764</td>\n",
              "      <td>12.0006</td>\n",
              "      <td>2.9632</td>\n",
              "      <td>1.3388</td>\n",
              "      <td>0.1886</td>\n",
              "      <td>9.8526</td>\n",
              "      <td>1.3268</td>\n",
              "      <td>7.8837</td>\n",
              "      <td>21.8727</td>\n",
              "      <td>-12.1860</td>\n",
              "      <td>2.6810</td>\n",
              "      <td>-14.4103</td>\n",
              "      <td>17.7982</td>\n",
              "      <td>1.5196</td>\n",
              "      <td>1.6723</td>\n",
              "      <td>12.0580</td>\n",
              "      <td>2.4178</td>\n",
              "      <td>0.9954</td>\n",
              "      <td>20.9480</td>\n",
              "      <td>0.0820</td>\n",
              "      <td>-7.4066</td>\n",
              "      <td>8.3506</td>\n",
              "      <td>13.9636</td>\n",
              "      <td>8.4823</td>\n",
              "    </tr>\n",
              "    <tr>\n",
              "      <th>...</th>\n",
              "      <td>...</td>\n",
              "      <td>...</td>\n",
              "      <td>...</td>\n",
              "      <td>...</td>\n",
              "      <td>...</td>\n",
              "      <td>...</td>\n",
              "      <td>...</td>\n",
              "      <td>...</td>\n",
              "      <td>...</td>\n",
              "      <td>...</td>\n",
              "      <td>...</td>\n",
              "      <td>...</td>\n",
              "      <td>...</td>\n",
              "      <td>...</td>\n",
              "      <td>...</td>\n",
              "      <td>...</td>\n",
              "      <td>...</td>\n",
              "      <td>...</td>\n",
              "      <td>...</td>\n",
              "      <td>...</td>\n",
              "      <td>...</td>\n",
              "      <td>...</td>\n",
              "      <td>...</td>\n",
              "      <td>...</td>\n",
              "      <td>...</td>\n",
              "      <td>...</td>\n",
              "      <td>...</td>\n",
              "      <td>...</td>\n",
              "      <td>...</td>\n",
              "      <td>...</td>\n",
              "      <td>...</td>\n",
              "      <td>...</td>\n",
              "      <td>...</td>\n",
              "      <td>...</td>\n",
              "      <td>...</td>\n",
              "      <td>...</td>\n",
              "      <td>...</td>\n",
              "      <td>...</td>\n",
              "      <td>...</td>\n",
              "      <td>...</td>\n",
              "      <td>...</td>\n",
              "      <td>...</td>\n",
              "      <td>...</td>\n",
              "      <td>...</td>\n",
              "      <td>...</td>\n",
              "      <td>...</td>\n",
              "      <td>...</td>\n",
              "      <td>...</td>\n",
              "      <td>...</td>\n",
              "      <td>...</td>\n",
              "      <td>...</td>\n",
              "      <td>...</td>\n",
              "      <td>...</td>\n",
              "      <td>...</td>\n",
              "      <td>...</td>\n",
              "      <td>...</td>\n",
              "      <td>...</td>\n",
              "      <td>...</td>\n",
              "      <td>...</td>\n",
              "      <td>...</td>\n",
              "      <td>...</td>\n",
              "      <td>...</td>\n",
              "      <td>...</td>\n",
              "      <td>...</td>\n",
              "      <td>...</td>\n",
              "      <td>...</td>\n",
              "      <td>...</td>\n",
              "      <td>...</td>\n",
              "      <td>...</td>\n",
              "      <td>...</td>\n",
              "      <td>...</td>\n",
              "      <td>...</td>\n",
              "      <td>...</td>\n",
              "      <td>...</td>\n",
              "      <td>...</td>\n",
              "      <td>...</td>\n",
              "      <td>...</td>\n",
              "      <td>...</td>\n",
              "      <td>...</td>\n",
              "      <td>...</td>\n",
              "      <td>...</td>\n",
              "    </tr>\n",
              "    <tr>\n",
              "      <th>169587</th>\n",
              "      <td>11.6967</td>\n",
              "      <td>3.1881</td>\n",
              "      <td>13.3463</td>\n",
              "      <td>3.0313</td>\n",
              "      <td>11.3223</td>\n",
              "      <td>-11.4727</td>\n",
              "      <td>4.0090</td>\n",
              "      <td>17.7897</td>\n",
              "      <td>6.1620</td>\n",
              "      <td>6.9724</td>\n",
              "      <td>11.4233</td>\n",
              "      <td>8.9118</td>\n",
              "      <td>13.8758</td>\n",
              "      <td>6.4106</td>\n",
              "      <td>6.7831</td>\n",
              "      <td>14.1100</td>\n",
              "      <td>6.4375</td>\n",
              "      <td>-6.3221</td>\n",
              "      <td>22.2062</td>\n",
              "      <td>20.6224</td>\n",
              "      <td>16.3480</td>\n",
              "      <td>18.5627</td>\n",
              "      <td>-0.0608</td>\n",
              "      <td>2.2330</td>\n",
              "      <td>8.8580</td>\n",
              "      <td>13.3738</td>\n",
              "      <td>-0.0897</td>\n",
              "      <td>-1.9418</td>\n",
              "      <td>5.0408</td>\n",
              "      <td>10.5953</td>\n",
              "      <td>-12.7253</td>\n",
              "      <td>10.3702</td>\n",
              "      <td>-2.1723</td>\n",
              "      <td>19.2760</td>\n",
              "      <td>12.4475</td>\n",
              "      <td>-3.1973</td>\n",
              "      <td>-0.6881</td>\n",
              "      <td>7.0137</td>\n",
              "      <td>9.0268</td>\n",
              "      <td>-0.0689</td>\n",
              "      <td>...</td>\n",
              "      <td>30.4731</td>\n",
              "      <td>5.2223</td>\n",
              "      <td>6.5571</td>\n",
              "      <td>11.5008</td>\n",
              "      <td>-6.8953</td>\n",
              "      <td>23.0848</td>\n",
              "      <td>2.9888</td>\n",
              "      <td>12.9044</td>\n",
              "      <td>1.3301</td>\n",
              "      <td>6.0742</td>\n",
              "      <td>-0.1146</td>\n",
              "      <td>-2.4892</td>\n",
              "      <td>18.7718</td>\n",
              "      <td>-6.9869</td>\n",
              "      <td>29.0858</td>\n",
              "      <td>7.9224</td>\n",
              "      <td>-14.3774</td>\n",
              "      <td>14.0539</td>\n",
              "      <td>3.1213</td>\n",
              "      <td>-1.6085</td>\n",
              "      <td>1.8743</td>\n",
              "      <td>10.6399</td>\n",
              "      <td>14.7036</td>\n",
              "      <td>10.1485</td>\n",
              "      <td>22.3883</td>\n",
              "      <td>1.7573</td>\n",
              "      <td>9.1143</td>\n",
              "      <td>-13.3127</td>\n",
              "      <td>15.6533</td>\n",
              "      <td>0.7569</td>\n",
              "      <td>5.6074</td>\n",
              "      <td>8.6054</td>\n",
              "      <td>0.6164</td>\n",
              "      <td>6.4350</td>\n",
              "      <td>16.4626</td>\n",
              "      <td>0.8725</td>\n",
              "      <td>3.4212</td>\n",
              "      <td>9.6986</td>\n",
              "      <td>14.3003</td>\n",
              "      <td>-12.6701</td>\n",
              "    </tr>\n",
              "    <tr>\n",
              "      <th>173162</th>\n",
              "      <td>12.2226</td>\n",
              "      <td>-4.0901</td>\n",
              "      <td>8.9433</td>\n",
              "      <td>4.7605</td>\n",
              "      <td>13.9412</td>\n",
              "      <td>-2.2167</td>\n",
              "      <td>4.3731</td>\n",
              "      <td>21.8465</td>\n",
              "      <td>6.4425</td>\n",
              "      <td>8.7238</td>\n",
              "      <td>2.9161</td>\n",
              "      <td>-7.3250</td>\n",
              "      <td>13.8557</td>\n",
              "      <td>14.5124</td>\n",
              "      <td>6.8587</td>\n",
              "      <td>14.1132</td>\n",
              "      <td>9.9308</td>\n",
              "      <td>-9.3049</td>\n",
              "      <td>14.6191</td>\n",
              "      <td>19.7655</td>\n",
              "      <td>19.4913</td>\n",
              "      <td>13.2846</td>\n",
              "      <td>2.1282</td>\n",
              "      <td>3.0627</td>\n",
              "      <td>10.4654</td>\n",
              "      <td>13.9179</td>\n",
              "      <td>-3.2886</td>\n",
              "      <td>-1.3629</td>\n",
              "      <td>5.3942</td>\n",
              "      <td>3.0132</td>\n",
              "      <td>-16.5828</td>\n",
              "      <td>13.6093</td>\n",
              "      <td>-2.6616</td>\n",
              "      <td>8.9615</td>\n",
              "      <td>10.8523</td>\n",
              "      <td>9.4019</td>\n",
              "      <td>3.9606</td>\n",
              "      <td>8.0475</td>\n",
              "      <td>10.1469</td>\n",
              "      <td>-1.3323</td>\n",
              "      <td>...</td>\n",
              "      <td>45.0972</td>\n",
              "      <td>5.6102</td>\n",
              "      <td>5.6756</td>\n",
              "      <td>10.8466</td>\n",
              "      <td>-6.1126</td>\n",
              "      <td>17.2071</td>\n",
              "      <td>3.2690</td>\n",
              "      <td>6.4633</td>\n",
              "      <td>2.1186</td>\n",
              "      <td>5.4963</td>\n",
              "      <td>-3.0001</td>\n",
              "      <td>-5.2212</td>\n",
              "      <td>27.7897</td>\n",
              "      <td>-0.8460</td>\n",
              "      <td>31.2495</td>\n",
              "      <td>7.9066</td>\n",
              "      <td>12.3061</td>\n",
              "      <td>10.7637</td>\n",
              "      <td>0.4834</td>\n",
              "      <td>1.1271</td>\n",
              "      <td>4.2329</td>\n",
              "      <td>10.6309</td>\n",
              "      <td>-2.7728</td>\n",
              "      <td>9.0694</td>\n",
              "      <td>19.2677</td>\n",
              "      <td>-9.6731</td>\n",
              "      <td>7.3671</td>\n",
              "      <td>-17.4011</td>\n",
              "      <td>21.6423</td>\n",
              "      <td>0.5768</td>\n",
              "      <td>3.0735</td>\n",
              "      <td>3.7728</td>\n",
              "      <td>0.5407</td>\n",
              "      <td>4.1146</td>\n",
              "      <td>18.6099</td>\n",
              "      <td>-1.9956</td>\n",
              "      <td>4.4777</td>\n",
              "      <td>9.7806</td>\n",
              "      <td>15.2820</td>\n",
              "      <td>-4.8744</td>\n",
              "    </tr>\n",
              "    <tr>\n",
              "      <th>63271</th>\n",
              "      <td>10.1169</td>\n",
              "      <td>0.0956</td>\n",
              "      <td>15.0302</td>\n",
              "      <td>6.6845</td>\n",
              "      <td>11.6827</td>\n",
              "      <td>-8.4090</td>\n",
              "      <td>3.8692</td>\n",
              "      <td>22.2855</td>\n",
              "      <td>1.3183</td>\n",
              "      <td>7.9169</td>\n",
              "      <td>-8.1701</td>\n",
              "      <td>-13.1621</td>\n",
              "      <td>14.3568</td>\n",
              "      <td>16.0387</td>\n",
              "      <td>9.0951</td>\n",
              "      <td>13.9618</td>\n",
              "      <td>11.3494</td>\n",
              "      <td>-3.3291</td>\n",
              "      <td>3.7884</td>\n",
              "      <td>9.2916</td>\n",
              "      <td>8.9833</td>\n",
              "      <td>9.6446</td>\n",
              "      <td>7.1415</td>\n",
              "      <td>2.3460</td>\n",
              "      <td>14.0940</td>\n",
              "      <td>13.1244</td>\n",
              "      <td>-6.8964</td>\n",
              "      <td>-0.7857</td>\n",
              "      <td>5.9152</td>\n",
              "      <td>0.0726</td>\n",
              "      <td>-13.7688</td>\n",
              "      <td>11.9876</td>\n",
              "      <td>-3.3464</td>\n",
              "      <td>11.2614</td>\n",
              "      <td>10.3324</td>\n",
              "      <td>0.7644</td>\n",
              "      <td>4.0989</td>\n",
              "      <td>8.0892</td>\n",
              "      <td>15.2280</td>\n",
              "      <td>-7.2664</td>\n",
              "      <td>...</td>\n",
              "      <td>15.1710</td>\n",
              "      <td>5.5958</td>\n",
              "      <td>5.2648</td>\n",
              "      <td>12.5224</td>\n",
              "      <td>-5.9588</td>\n",
              "      <td>20.7040</td>\n",
              "      <td>3.3005</td>\n",
              "      <td>2.9699</td>\n",
              "      <td>0.7202</td>\n",
              "      <td>5.2428</td>\n",
              "      <td>-0.8640</td>\n",
              "      <td>4.2305</td>\n",
              "      <td>19.2289</td>\n",
              "      <td>1.3877</td>\n",
              "      <td>18.6567</td>\n",
              "      <td>11.5213</td>\n",
              "      <td>1.4299</td>\n",
              "      <td>13.9805</td>\n",
              "      <td>-9.5721</td>\n",
              "      <td>-0.3835</td>\n",
              "      <td>0.7638</td>\n",
              "      <td>8.2531</td>\n",
              "      <td>-8.6803</td>\n",
              "      <td>11.3970</td>\n",
              "      <td>3.3537</td>\n",
              "      <td>-2.7343</td>\n",
              "      <td>14.7533</td>\n",
              "      <td>-16.4534</td>\n",
              "      <td>16.7389</td>\n",
              "      <td>2.6537</td>\n",
              "      <td>5.6181</td>\n",
              "      <td>10.4111</td>\n",
              "      <td>2.1144</td>\n",
              "      <td>9.1493</td>\n",
              "      <td>16.6974</td>\n",
              "      <td>3.2319</td>\n",
              "      <td>4.0585</td>\n",
              "      <td>8.7860</td>\n",
              "      <td>12.4909</td>\n",
              "      <td>-3.4324</td>\n",
              "    </tr>\n",
              "    <tr>\n",
              "      <th>56936</th>\n",
              "      <td>12.8531</td>\n",
              "      <td>3.6332</td>\n",
              "      <td>13.1714</td>\n",
              "      <td>6.5001</td>\n",
              "      <td>11.8664</td>\n",
              "      <td>12.4898</td>\n",
              "      <td>5.6858</td>\n",
              "      <td>18.6352</td>\n",
              "      <td>1.4089</td>\n",
              "      <td>9.1742</td>\n",
              "      <td>-8.2162</td>\n",
              "      <td>-9.9224</td>\n",
              "      <td>13.8362</td>\n",
              "      <td>6.9805</td>\n",
              "      <td>7.1141</td>\n",
              "      <td>14.1408</td>\n",
              "      <td>9.6374</td>\n",
              "      <td>-14.9343</td>\n",
              "      <td>6.3814</td>\n",
              "      <td>16.4980</td>\n",
              "      <td>7.9701</td>\n",
              "      <td>26.7949</td>\n",
              "      <td>5.0677</td>\n",
              "      <td>3.1032</td>\n",
              "      <td>17.1867</td>\n",
              "      <td>14.1830</td>\n",
              "      <td>-8.3220</td>\n",
              "      <td>-3.6330</td>\n",
              "      <td>5.4153</td>\n",
              "      <td>3.0784</td>\n",
              "      <td>-2.2114</td>\n",
              "      <td>13.2000</td>\n",
              "      <td>-1.1685</td>\n",
              "      <td>6.2614</td>\n",
              "      <td>11.5490</td>\n",
              "      <td>9.0553</td>\n",
              "      <td>3.4507</td>\n",
              "      <td>4.1131</td>\n",
              "      <td>9.4755</td>\n",
              "      <td>0.5611</td>\n",
              "      <td>...</td>\n",
              "      <td>35.6527</td>\n",
              "      <td>5.5271</td>\n",
              "      <td>5.7881</td>\n",
              "      <td>14.8202</td>\n",
              "      <td>-4.9069</td>\n",
              "      <td>23.5324</td>\n",
              "      <td>3.1723</td>\n",
              "      <td>-2.6722</td>\n",
              "      <td>1.2993</td>\n",
              "      <td>6.2717</td>\n",
              "      <td>2.0728</td>\n",
              "      <td>-0.8568</td>\n",
              "      <td>33.0494</td>\n",
              "      <td>6.6088</td>\n",
              "      <td>16.0671</td>\n",
              "      <td>9.6799</td>\n",
              "      <td>-8.2914</td>\n",
              "      <td>10.4227</td>\n",
              "      <td>-2.0102</td>\n",
              "      <td>-1.2982</td>\n",
              "      <td>-2.0392</td>\n",
              "      <td>10.6777</td>\n",
              "      <td>10.1757</td>\n",
              "      <td>9.7366</td>\n",
              "      <td>17.9624</td>\n",
              "      <td>-4.0518</td>\n",
              "      <td>5.8771</td>\n",
              "      <td>-21.5694</td>\n",
              "      <td>14.7805</td>\n",
              "      <td>-0.0918</td>\n",
              "      <td>5.6861</td>\n",
              "      <td>10.2116</td>\n",
              "      <td>1.1775</td>\n",
              "      <td>1.5218</td>\n",
              "      <td>15.5285</td>\n",
              "      <td>2.3209</td>\n",
              "      <td>7.7266</td>\n",
              "      <td>8.2095</td>\n",
              "      <td>17.2873</td>\n",
              "      <td>2.6439</td>\n",
              "    </tr>\n",
              "    <tr>\n",
              "      <th>156249</th>\n",
              "      <td>9.6802</td>\n",
              "      <td>-1.8710</td>\n",
              "      <td>9.4191</td>\n",
              "      <td>8.7622</td>\n",
              "      <td>12.3013</td>\n",
              "      <td>1.5196</td>\n",
              "      <td>6.1077</td>\n",
              "      <td>19.5014</td>\n",
              "      <td>0.1470</td>\n",
              "      <td>6.8526</td>\n",
              "      <td>-8.9739</td>\n",
              "      <td>-7.3306</td>\n",
              "      <td>14.2814</td>\n",
              "      <td>14.0412</td>\n",
              "      <td>9.0035</td>\n",
              "      <td>14.4124</td>\n",
              "      <td>8.9978</td>\n",
              "      <td>3.3074</td>\n",
              "      <td>15.6823</td>\n",
              "      <td>7.3458</td>\n",
              "      <td>9.4578</td>\n",
              "      <td>14.1942</td>\n",
              "      <td>3.9448</td>\n",
              "      <td>3.2069</td>\n",
              "      <td>9.3584</td>\n",
              "      <td>13.6785</td>\n",
              "      <td>-16.9104</td>\n",
              "      <td>-1.0555</td>\n",
              "      <td>5.9873</td>\n",
              "      <td>3.6134</td>\n",
              "      <td>-4.2595</td>\n",
              "      <td>8.7476</td>\n",
              "      <td>-3.5452</td>\n",
              "      <td>17.2304</td>\n",
              "      <td>11.4278</td>\n",
              "      <td>7.4188</td>\n",
              "      <td>1.6528</td>\n",
              "      <td>7.0481</td>\n",
              "      <td>4.5218</td>\n",
              "      <td>4.7118</td>\n",
              "      <td>...</td>\n",
              "      <td>38.2909</td>\n",
              "      <td>5.5872</td>\n",
              "      <td>3.9790</td>\n",
              "      <td>6.6080</td>\n",
              "      <td>-0.9713</td>\n",
              "      <td>15.4472</td>\n",
              "      <td>3.3107</td>\n",
              "      <td>-10.7657</td>\n",
              "      <td>5.8759</td>\n",
              "      <td>5.0333</td>\n",
              "      <td>-1.9152</td>\n",
              "      <td>3.9366</td>\n",
              "      <td>29.5223</td>\n",
              "      <td>1.6722</td>\n",
              "      <td>21.9457</td>\n",
              "      <td>12.3903</td>\n",
              "      <td>-0.1132</td>\n",
              "      <td>10.0261</td>\n",
              "      <td>5.7705</td>\n",
              "      <td>5.0412</td>\n",
              "      <td>0.4726</td>\n",
              "      <td>8.7427</td>\n",
              "      <td>6.3109</td>\n",
              "      <td>8.2517</td>\n",
              "      <td>4.8390</td>\n",
              "      <td>-8.0229</td>\n",
              "      <td>4.1940</td>\n",
              "      <td>-16.6007</td>\n",
              "      <td>18.4452</td>\n",
              "      <td>-0.1165</td>\n",
              "      <td>-2.3123</td>\n",
              "      <td>3.4365</td>\n",
              "      <td>3.9504</td>\n",
              "      <td>1.9909</td>\n",
              "      <td>23.3666</td>\n",
              "      <td>0.8955</td>\n",
              "      <td>12.1089</td>\n",
              "      <td>9.5690</td>\n",
              "      <td>15.2707</td>\n",
              "      <td>0.4883</td>\n",
              "    </tr>\n",
              "  </tbody>\n",
              "</table>\n",
              "<p>122551 rows × 200 columns</p>\n",
              "</div>"
            ],
            "text/plain": [
              "          var_0   var_1    var_2   var_3  ...  var_196  var_197  var_198  var_199\n",
              "84999    9.9026 -7.5640  12.3459  9.0341  ...   1.9427   8.4721  13.9658   5.9969\n",
              "93996   13.4418  6.2457   7.8581  9.5325  ...  -1.3856   7.2253  10.9538  14.0932\n",
              "54122    7.6075  0.7561  13.7921  7.4513  ...   2.2857  10.4102  16.7069 -18.3792\n",
              "194870  14.8133 -2.0084  15.3357  6.6154  ...   4.6887   9.2920  17.7150   5.0699\n",
              "161114   9.5972  6.5295   7.7517  5.7622  ...  -7.4066   8.3506  13.9636   8.4823\n",
              "...         ...     ...      ...     ...  ...      ...      ...      ...      ...\n",
              "169587  11.6967  3.1881  13.3463  3.0313  ...   3.4212   9.6986  14.3003 -12.6701\n",
              "173162  12.2226 -4.0901   8.9433  4.7605  ...   4.4777   9.7806  15.2820  -4.8744\n",
              "63271   10.1169  0.0956  15.0302  6.6845  ...   4.0585   8.7860  12.4909  -3.4324\n",
              "56936   12.8531  3.6332  13.1714  6.5001  ...   7.7266   8.2095  17.2873   2.6439\n",
              "156249   9.6802 -1.8710   9.4191  8.7622  ...  12.1089   9.5690  15.2707   0.4883\n",
              "\n",
              "[122551 rows x 200 columns]"
            ]
          },
          "metadata": {
            "tags": []
          },
          "execution_count": 57
        }
      ]
    },
    {
      "cell_type": "markdown",
      "metadata": {
        "id": "wdv7r-UESH2q"
      },
      "source": [
        "####Modelling"
      ]
    },
    {
      "cell_type": "code",
      "metadata": {
        "colab": {
          "base_uri": "https://localhost:8080/",
          "height": 519
        },
        "id": "8pMADv3gsmy4",
        "outputId": "0fbd9efb-7c79-440b-d06d-f88159a973ae"
      },
      "source": [
        "#Using RandomCV and finding the best Logistic regression model\n",
        "\n",
        "lr = LogisticRegression()\n",
        "params = [0.0001,0.001,0.01,0.1,1,5,10,20,30,40]\n",
        "\n",
        "log_data = [math.log10(x) for x in params]\n",
        "\n",
        "print(\"Printing parameter Data and Corresponding Log value\")\n",
        "data={'Parameter value':params,'Corresponding Log Value':log_data}\n",
        "param=pd.DataFrame(data)\n",
        "print(\"=\"*100)\n",
        "print(param)\n",
        "\n",
        "parameters = {\"C\":[0.0001,0.001,0.01,0.1,1,5,10,20,30,40], \"penalty\":[\"l2\"], 'solver' : ['liblinear']}\n",
        "clf_lr = RandomizedSearchCV(lr, parameters, cv=3, scoring='roc_auc', return_train_score=True, n_jobs=-1)\n",
        "clf_lr.fit(x_train, y_train)\n",
        "\n",
        "auc_train= clf_lr.cv_results_['mean_train_score']\n",
        "std_auc_train= clf_lr.cv_results_['std_train_score']\n",
        "cv_auc = clf_lr.cv_results_['mean_test_score'] \n",
        "cv_auc_std= clf_lr.cv_results_['std_test_score']\n",
        "\n",
        "plt.plot(log_data, auc_train, label='Train AUC')\n",
        "plt.gca().fill_between(log_data,auc_train - std_auc_train,auc_train + std_auc_train,alpha=0.2,color='darkblue')\n",
        "\n",
        "plt.plot(log_data, cv_auc, label='CV AUC')\n",
        "plt.gca().fill_between(log_data,cv_auc - cv_auc_std,cv_auc + cv_auc_std,alpha=0.2,color='darkorange')\n",
        "\n",
        "plt.scatter(log_data, auc_train, label='Train AUC points')"
      ],
      "execution_count": null,
      "outputs": [
        {
          "output_type": "stream",
          "text": [
            "Printing parameter Data and Corresponding Log value\n",
            "====================================================================================================\n",
            "   Parameter value  Corresponding Log Value\n",
            "0           0.0001                -4.000000\n",
            "1           0.0010                -3.000000\n",
            "2           0.0100                -2.000000\n",
            "3           0.1000                -1.000000\n",
            "4           1.0000                 0.000000\n",
            "5           5.0000                 0.698970\n",
            "6          10.0000                 1.000000\n",
            "7          20.0000                 1.301030\n",
            "8          30.0000                 1.477121\n",
            "9          40.0000                 1.602060\n"
          ],
          "name": "stdout"
        },
        {
          "output_type": "execute_result",
          "data": {
            "text/plain": [
              "<matplotlib.collections.PathCollection at 0x7f42ea6d9350>"
            ]
          },
          "metadata": {
            "tags": []
          },
          "execution_count": 59
        },
        {
          "output_type": "display_data",
          "data": {
            "image/png": "[encoded data removed]",
            "text/plain": [
              "<Figure size 432x288 with 1 Axes>"
            ]
          },
          "metadata": {
            "tags": [],
            "needs_background": "light"
          }
        }
      ]
    },
    {
      "cell_type": "code",
      "metadata": {
        "colab": {
          "base_uri": "https://localhost:8080/"
        },
        "id": "EuruUYbmPGLR",
        "outputId": "a95a65dd-0fae-4df9-dedd-34655f80dae7"
      },
      "source": [
        "#Best LR classifier\n",
        "clf.best_estimator_"
      ],
      "execution_count": null,
      "outputs": [
        {
          "output_type": "execute_result",
          "data": {
            "text/plain": [
              "LogisticRegression(C=30, class_weight=None, dual=False, fit_intercept=True,\n",
              "                   intercept_scaling=1, l1_ratio=None, max_iter=100,\n",
              "                   multi_class='auto', n_jobs=None, penalty='l2',\n",
              "                   random_state=None, solver='lbfgs', tol=0.0001, verbose=0,\n",
              "                   warm_start=False)"
            ]
          },
          "metadata": {
            "tags": []
          },
          "execution_count": 67
        }
      ]
    },
    {
      "cell_type": "code",
      "metadata": {
        "id": "WVSHLQZ7tgTH"
      },
      "source": [
        "def model_predict(clf, data):\n",
        "  y_data_pred = []\n",
        "  y_data_pred.extend(clf.predict_proba(data[:])[:,1])\n",
        "  \n",
        "  return y_data_pred"
      ],
      "execution_count": null,
      "outputs": []
    },
    {
      "cell_type": "code",
      "metadata": {
        "colab": {
          "base_uri": "https://localhost:8080/",
          "height": 295
        },
        "id": "bwnKdYaQtgRC",
        "outputId": "1f8e24dd-1e6b-419f-ecb7-c8dd62fcb019"
      },
      "source": [
        "#Checking Model Performance\n",
        "\n",
        "lr = LogisticRegression(C=1.0, class_weight=None, dual=False, fit_intercept=True,\n",
        "                   intercept_scaling=1, max_iter=100,\n",
        "                   n_jobs=None, penalty='l2',\n",
        "                   random_state=None, solver='liblinear', tol=0.0001, verbose=0,\n",
        "                   warm_start=False)\n",
        "lr.fit(x_train, y_train)\n",
        "\n",
        "y_train_pred = model_predict(lr, x_train)    \n",
        "y_test_pred = model_predict(lr, x_test)\n",
        "\n",
        "train_fpr, train_tpr, tr_thresholds = roc_curve(y_train, y_train_pred)\n",
        "test_fpr, test_tpr, te_thresholds = roc_curve(y_test, y_test_pred)\n",
        "\n",
        "plt.plot(train_fpr, train_tpr, label=\"train AUC =\"+str(auc(train_fpr, train_tpr)))\n",
        "plt.plot(test_fpr, test_tpr, label=\"test AUC =\"+str(auc(test_fpr, test_tpr)))\n",
        "plt.legend()\n",
        "plt.xlabel(\"K: hyperparameter\")\n",
        "plt.ylabel(\"AUC\")\n",
        "plt.title(\"ERROR PLOTS\")\n",
        "plt.grid()\n",
        "plt.show()"
      ],
      "execution_count": null,
      "outputs": [
        {
          "output_type": "display_data",
          "data": {
            "image/png": "[encoded data removed]",
            "text/plain": [
              "<Figure size 432x288 with 1 Axes>"
            ]
          },
          "metadata": {
            "tags": [],
            "needs_background": "light"
          }
        }
      ]
    },
    {
      "cell_type": "code",
      "metadata": {
        "colab": {
          "base_uri": "https://localhost:8080/",
          "height": 198
        },
        "id": "Xzv-KvihtgIc",
        "outputId": "dac85375-8ebf-4cb3-cb9a-75b0578c5e45"
      },
      "source": [
        "#Final Submission DF fro LR\n",
        "test_lr = pd.read_csv('test.csv.zip', compression='zip', header=0, sep=',', quotechar='\"')\n",
        "ab = test_lr.drop(\"ID_code\" ,axis=1)\n",
        "predictions_test = lr.predict(ab)\n",
        "df_lr = pd.DataFrame({\"ID_code\" :test_lr['ID_code'] ,\"target\": predictions_test})\n",
        "df_lr.to_csv('logisticmodelpred.csv',index=False)\n",
        "df_lr.head()"
      ],
      "execution_count": null,
      "outputs": [
        {
          "output_type": "execute_result",
          "data": {
            "text/html": [
              "<div>\n",
              "<style scoped>\n",
              "    .dataframe tbody tr th:only-of-type {\n",
              "        vertical-align: middle;\n",
              "    }\n",
              "\n",
              "    .dataframe tbody tr th {\n",
              "        vertical-align: top;\n",
              "    }\n",
              "\n",
              "    .dataframe thead th {\n",
              "        text-align: right;\n",
              "    }\n",
              "</style>\n",
              "<table border=\"1\" class=\"dataframe\">\n",
              "  <thead>\n",
              "    <tr style=\"text-align: right;\">\n",
              "      <th></th>\n",
              "      <th>ID_code</th>\n",
              "      <th>target</th>\n",
              "    </tr>\n",
              "  </thead>\n",
              "  <tbody>\n",
              "    <tr>\n",
              "      <th>0</th>\n",
              "      <td>test_0</td>\n",
              "      <td>0</td>\n",
              "    </tr>\n",
              "    <tr>\n",
              "      <th>1</th>\n",
              "      <td>test_1</td>\n",
              "      <td>0</td>\n",
              "    </tr>\n",
              "    <tr>\n",
              "      <th>2</th>\n",
              "      <td>test_2</td>\n",
              "      <td>0</td>\n",
              "    </tr>\n",
              "    <tr>\n",
              "      <th>3</th>\n",
              "      <td>test_3</td>\n",
              "      <td>0</td>\n",
              "    </tr>\n",
              "    <tr>\n",
              "      <th>4</th>\n",
              "      <td>test_4</td>\n",
              "      <td>0</td>\n",
              "    </tr>\n",
              "  </tbody>\n",
              "</table>\n",
              "</div>"
            ],
            "text/plain": [
              "  ID_code  target\n",
              "0  test_0       0\n",
              "1  test_1       0\n",
              "2  test_2       0\n",
              "3  test_3       0\n",
              "4  test_4       0"
            ]
          },
          "metadata": {
            "tags": []
          },
          "execution_count": 64
        }
      ]
    },
    {
      "cell_type": "markdown",
      "metadata": {
        "id": "Wu_gZOQLv0da"
      },
      "source": [
        "###NB"
      ]
    },
    {
      "cell_type": "code",
      "metadata": {
        "id": "YB_yVHmYnJra"
      },
      "source": [
        "#Finding best model for Naive Bayes\n",
        "nb_classifier = GaussianNB()\n",
        "params_NB = {'var_smoothing': np.<a onclick=\"parent.postMessage({'referent':'.numpy.logspace'}, '*')\">logspace(0,-9, num=100)}\n",
        "\n",
        "\n",
        "for i in range(5):\n",
        "  X_train = train_X\n",
        "  y_target = train_y\n",
        "\n",
        "  inner_cv = KFold(n_splits=4, shuffle=True, random_state=i)\n",
        "  outer_cv = KFold(n_splits=4, shuffle=True, random_state=i)\n",
        "    \n",
        "  nbc = GridSearchCV(estimator=nb_classifier, param_grid=params_NB, cv=inner_cv,refit=True)\n",
        "  nbc.fit(X_train,y_target)"
      ],
      "execution_count": null,
      "outputs": []
    },
    {
      "cell_type": "code",
      "metadata": {
        "colab": {
          "base_uri": "https://localhost:8080/"
        },
        "id": "MZaTpzyhWwEB",
        "outputId": "c0f9bb95-98d1-474b-a2b0-bc39810cb958"
      },
      "source": [
        "neigh.get_params"
      ],
      "execution_count": null,
      "outputs": [
        {
          "output_type": "execute_result",
          "data": {
            "text/plain": [
              "<bound method BaseEstimator.get_params of GaussianNB(priors=None, var_smoothing=1e-09)>"
            ]
          },
          "metadata": {
            "tags": []
          },
          "execution_count": 80
        }
      ]
    },
    {
      "cell_type": "code",
      "metadata": {
        "colab": {
          "base_uri": "https://localhost:8080/",
          "height": 295
        },
        "id": "5GPMLZMFv1g8",
        "outputId": "0d2e6127-62e2-4157-d1da-38d7c2d79b4e"
      },
      "source": [
        "#Naive Baies model performance\n",
        "neigh = GaussianNB()\n",
        "neigh.fit(x_train, y_train)\n",
        "\n",
        "y_train_pred = model_predict(neigh, x_train)    \n",
        "y_test_pred = model_predict(neigh, x_test)\n",
        "\n",
        "train_fpr, train_tpr, tr_thresholds = roc_curve(y_train, y_train_pred)\n",
        "test_fpr, test_tpr, te_thresholds = roc_curve(y_test, y_test_pred)\n",
        "\n",
        "plt.plot(train_fpr, train_tpr, label=\"train AUC =\"+str(auc(train_fpr, train_tpr)))\n",
        "plt.plot(test_fpr, test_tpr, label=\"test AUC =\"+str(auc(test_fpr, test_tpr)))\n",
        "plt.legend()\n",
        "plt.xlabel(\"K: hyperparameter\")\n",
        "plt.ylabel(\"AUC\")\n",
        "plt.title(\"ERROR PLOTS\")\n",
        "plt.grid()\n",
        "plt.show()"
      ],
      "execution_count": null,
      "outputs": [
        {
          "output_type": "display_data",
          "data": {
            "image/png": "[encoded data removed]",
            "text/plain": [
              "<Figure size 432x288 with 1 Axes>"
            ]
          },
          "metadata": {
            "tags": [],
            "needs_background": "light"
          }
        }
      ]
    },
    {
      "cell_type": "code",
      "metadata": {
        "colab": {
          "base_uri": "https://localhost:8080/",
          "height": 198
        },
        "id": "6WZvquHPv1wY",
        "outputId": "e2861099-66e9-4168-8f02-e25b4e629377"
      },
      "source": [
        "#Final submission Df\n",
        "test_nb = pd.read_csv('test.csv.zip', compression='zip', header=0, sep=',', quotechar='\"')\n",
        "test_nb1 = test_nb.drop(\"ID_code\" ,axis=1)\n",
        "\n",
        "predictions_test = neigh.predict(test_nb1)\n",
        "df_nb = pd.DataFrame({\"ID_code\" :test_nb['ID_code'] ,\"target\": predictions_test})\n",
        "df_nb.to_csv('NBpred.csv',index=False)\n",
        "df_nb.head()"
      ],
      "execution_count": null,
      "outputs": [
        {
          "output_type": "execute_result",
          "data": {
            "text/html": [
              "<div>\n",
              "<style scoped>\n",
              "    .dataframe tbody tr th:only-of-type {\n",
              "        vertical-align: middle;\n",
              "    }\n",
              "\n",
              "    .dataframe tbody tr th {\n",
              "        vertical-align: top;\n",
              "    }\n",
              "\n",
              "    .dataframe thead th {\n",
              "        text-align: right;\n",
              "    }\n",
              "</style>\n",
              "<table border=\"1\" class=\"dataframe\">\n",
              "  <thead>\n",
              "    <tr style=\"text-align: right;\">\n",
              "      <th></th>\n",
              "      <th>ID_code</th>\n",
              "      <th>target</th>\n",
              "    </tr>\n",
              "  </thead>\n",
              "  <tbody>\n",
              "    <tr>\n",
              "      <th>0</th>\n",
              "      <td>test_0</td>\n",
              "      <td>0</td>\n",
              "    </tr>\n",
              "    <tr>\n",
              "      <th>1</th>\n",
              "      <td>test_1</td>\n",
              "      <td>0</td>\n",
              "    </tr>\n",
              "    <tr>\n",
              "      <th>2</th>\n",
              "      <td>test_2</td>\n",
              "      <td>0</td>\n",
              "    </tr>\n",
              "    <tr>\n",
              "      <th>3</th>\n",
              "      <td>test_3</td>\n",
              "      <td>0</td>\n",
              "    </tr>\n",
              "    <tr>\n",
              "      <th>4</th>\n",
              "      <td>test_4</td>\n",
              "      <td>0</td>\n",
              "    </tr>\n",
              "  </tbody>\n",
              "</table>\n",
              "</div>"
            ],
            "text/plain": [
              "  ID_code  target\n",
              "0  test_0       0\n",
              "1  test_1       0\n",
              "2  test_2       0\n",
              "3  test_3       0\n",
              "4  test_4       0"
            ]
          },
          "metadata": {
            "tags": []
          },
          "execution_count": 73
        }
      ]
    },
    {
      "cell_type": "markdown",
      "metadata": {
        "id": "Ux4LiXhiwrR1"
      },
      "source": [
        "###RFC"
      ]
    },
    {
      "cell_type": "code",
      "metadata": {
        "colab": {
          "base_uri": "https://localhost:8080/"
        },
        "id": "cnufReJPv1jv",
        "outputId": "94f9fe5c-efe5-4abb-8a36-50c051d333b3"
      },
      "source": [
        "#Random Forest Classifier\n",
        "rfc = RandomForestClassifier()\n",
        "\n",
        "\n",
        "x_train = train_X\n",
        "y_target = train_y\n",
        "n_estimators=[10,50,100,200]\n",
        "max_depth=[1, 5, 10, 50]\n",
        "\n",
        "log_max_depth = [math.log10(x) for x in max_depth]\n",
        "log_n_estimators=[math.log10(x) for x in n_estimators]\n",
        "\n",
        "print(\"Printing parameter Data and Corresponding Log value for Estimators\")\n",
        "data={'Parameter value':n_estimators,'Corresponding Log Value':log_n_estimators}\n",
        "param=pd.DataFrame(data)\n",
        "print(\"=\"*100)\n",
        "print(param)\n",
        "\n",
        "#GridSearchCV\n",
        "param_grid = {'n_estimators':n_estimators, \n",
        "              'max_depth':max_depth,\n",
        "              'n_jobs':[-1],\n",
        "              'max_features' :['auto', 'sqrt', 'log2'],\n",
        "              'class_weight' : ['balanced','balanced_subsample','None']}\n",
        "cl_rfc = GridSearchCV(rfc, param_grid, cv=3, scoring='roc_auc', return_train_score=True,n_jobs=-1)\n",
        "cl_rfc.fit(x_train, y_target)\n",
        "\n",
        "#Performance\n",
        "train_auc= cl_rfc.cv_results_['mean_train_score']\n",
        "train_auc_std= cl_rfc.cv_results_['std_train_score']\n",
        "cv_auc = cl_rfc.cv_results_['mean_test_score'] \n",
        "cv_auc_std= cl_rfc.cv_results_['std_test_score']"
      ],
      "execution_count": null,
      "outputs": [
        {
          "output_type": "stream",
          "text": [
            "Printing parameter Data and Corresponding Log value for Estimators\n",
            "====================================================================================================\n",
            "   Parameter value  Corresponding Log Value\n",
            "0               10                  1.00000\n",
            "1               50                  1.69897\n",
            "2              100                  2.00000\n",
            "3              200                  2.30103\n"
          ],
          "name": "stdout"
        }
      ]
    },
    {
      "cell_type": "code",
      "metadata": {
        "colab": {
          "base_uri": "https://localhost:8080/"
        },
        "id": "FaovEEAOKs-m",
        "outputId": "fc2c222b-27b8-4f91-cf2b-8b7a4be37e19"
      },
      "source": [
        "#Best performing parameters\n",
        "cl_rfc.get_params"
      ],
      "execution_count": null,
      "outputs": [
        {
          "output_type": "execute_result",
          "data": {
            "text/plain": [
              "<bound method BaseEstimator.get_params of RandomForestClassifier(bootstrap=True, ccp_alpha=0.0, class_weight='balanced',\n",
              "                       criterion='gini', max_depth=10, max_features='auto',\n",
              "                       max_leaf_nodes=None, max_samples=None,\n",
              "                       min_impurity_decrease=0.0, min_impurity_split=None,\n",
              "                       min_samples_leaf=1, min_samples_split=2,\n",
              "                       min_weight_fraction_leaf=0.0, n_estimators=100,\n",
              "                       n_jobs=None, oob_score=False, random_state=None,\n",
              "                       verbose=0, warm_start=False)>"
            ]
          },
          "metadata": {
            "tags": []
          },
          "execution_count": 70
        }
      ]
    },
    {
      "cell_type": "code",
      "metadata": {
        "colab": {
          "base_uri": "https://localhost:8080/",
          "height": 295
        },
        "id": "iusAHZG-ww5U",
        "outputId": "dd846c74-6e99-419f-afba-aae2889148d6"
      },
      "source": [
        "#Plotting performance of RFC\n",
        "\n",
        "rfc = RandomForestClassifier(n_estimators=100,max_depth=10,class_weight='balanced')\n",
        "rfc.fit(x_train, y_train)\n",
        "\n",
        "y_train_pred = model_predict(rfc, x_train)   \n",
        "y_test_pred = model_predict(rfc, x_test)\n",
        "\n",
        "\n",
        "train_fpr, train_tpr, tr_thresholds = roc_curve(y_train, y_train_pred)\n",
        "test_fpr, test_tpr, te_thresholds = roc_curve(y_test, y_test_pred)\n",
        "\n",
        "plt.plot(train_fpr, train_tpr, label=\"train AUC =\"+str(auc(train_fpr, train_tpr)))\n",
        "plt.plot(test_fpr, test_tpr, label=\"test AUC =\"+str(auc(test_fpr, test_tpr)))\n",
        "plt.legend()\n",
        "plt.xlabel(\"K: hyperparameter\")\n",
        "plt.ylabel(\"AUC\")\n",
        "plt.title(\"ERROR PLOTS\")\n",
        "plt.grid()\n",
        "plt.show()"
      ],
      "execution_count": null,
      "outputs": [
        {
          "output_type": "display_data",
          "data": {
            "image/png": "[encoded data removed]",
            "text/plain": [
              "<Figure size 432x288 with 1 Axes>"
            ]
          },
          "metadata": {
            "tags": [],
            "needs_background": "light"
          }
        }
      ]
    },
    {
      "cell_type": "code",
      "metadata": {
        "colab": {
          "base_uri": "https://localhost:8080/",
          "height": 198
        },
        "id": "fSfc2mqWMz-2",
        "outputId": "da489bc8-1c1c-4cba-90b6-ff8b6e98208e"
      },
      "source": [
        "#Creating final submission DF for RFC\n",
        "test_rfc = pd.read_csv('test.csv.zip', compression='zip', header=0, sep=',', quotechar='\"')\n",
        "test_rfc = test_rfc.drop(\"ID_code\" ,axis=1)\n",
        "\n",
        "predictions_rfc = rfc.predict(test_rfc)\n",
        "df_rfc = pd.DataFrame({\"ID_code\" :test_lr['ID_code'] ,\"target\": predictions_rfc})\n",
        "df_rfc.to_csv('RandomForestPrediction.csv',index=False)\n",
        "df_rfc.head()"
      ],
      "execution_count": null,
      "outputs": [
        {
          "output_type": "execute_result",
          "data": {
            "text/html": [
              "<div>\n",
              "<style scoped>\n",
              "    .dataframe tbody tr th:only-of-type {\n",
              "        vertical-align: middle;\n",
              "    }\n",
              "\n",
              "    .dataframe tbody tr th {\n",
              "        vertical-align: top;\n",
              "    }\n",
              "\n",
              "    .dataframe thead th {\n",
              "        text-align: right;\n",
              "    }\n",
              "</style>\n",
              "<table border=\"1\" class=\"dataframe\">\n",
              "  <thead>\n",
              "    <tr style=\"text-align: right;\">\n",
              "      <th></th>\n",
              "      <th>ID_code</th>\n",
              "      <th>target</th>\n",
              "    </tr>\n",
              "  </thead>\n",
              "  <tbody>\n",
              "    <tr>\n",
              "      <th>0</th>\n",
              "      <td>test_0</td>\n",
              "      <td>1</td>\n",
              "    </tr>\n",
              "    <tr>\n",
              "      <th>1</th>\n",
              "      <td>test_1</td>\n",
              "      <td>0</td>\n",
              "    </tr>\n",
              "    <tr>\n",
              "      <th>2</th>\n",
              "      <td>test_2</td>\n",
              "      <td>0</td>\n",
              "    </tr>\n",
              "    <tr>\n",
              "      <th>3</th>\n",
              "      <td>test_3</td>\n",
              "      <td>0</td>\n",
              "    </tr>\n",
              "    <tr>\n",
              "      <th>4</th>\n",
              "      <td>test_4</td>\n",
              "      <td>0</td>\n",
              "    </tr>\n",
              "  </tbody>\n",
              "</table>\n",
              "</div>"
            ],
            "text/plain": [
              "  ID_code  target\n",
              "0  test_0       1\n",
              "1  test_1       0\n",
              "2  test_2       0\n",
              "3  test_3       0\n",
              "4  test_4       0"
            ]
          },
          "metadata": {
            "tags": []
          },
          "execution_count": 81
        }
      ]
    },
    {
      "cell_type": "markdown",
      "metadata": {
        "id": "vrP2wIknQvxr"
      },
      "source": [
        "###XG Boost"
      ]
    },
    {
      "cell_type": "code",
      "metadata": {
        "colab": {
          "base_uri": "https://localhost:8080/"
        },
        "id": "JCBVeDqsKjEE",
        "outputId": "4a093ff7-91e1-4409-84af-7770eabd51c9"
      },
      "source": [
        "scoring = 'roc_auc'\n",
        "NUM_TRIALS = 5\n",
        "xg_scores = np.zeros(NUM_TRIALS)\n",
        "train_X.shape"
      ],
      "execution_count": null,
      "outputs": [
        {
          "output_type": "execute_result",
          "data": {
            "text/plain": [
              "(200000, 400)"
            ]
          },
          "metadata": {
            "tags": []
          },
          "execution_count": 26
        }
      ]
    },
    {
      "cell_type": "code",
      "metadata": {
        "id": "Kk6w4vRVD7hf"
      },
      "source": [
        "xg_grid = {'n_estimators': np.asarray([500,750,860,710,1000]),\n",
        "           'max_depth':np.asarray([15,20,35]),\n",
        "           'min_samples_split': [2], \n",
        "           'learning_rate': [0.01],\n",
        "           'n_jobs':[-1],\n",
        "           'nthread':[-1],\n",
        "           'scale_pos_weight':[1],\n",
        "           'colsample_bytree' :[0.5],\n",
        "           'subsample' : [0.7,0.9],\n",
        "           'objective':['binary:logistic'], \n",
        "           'reg_alpha' :[ 0.2,0.5,1.1,1.3],\n",
        "           'max_depth':[6], \n",
        "           'gamma':[0], 'random_state':[42],\n",
        "           'tree_method':[ \"gpu_hist\"]\n",
        "           }\n",
        "xg = xgb.XGBClassifier()\n",
        "\n",
        "\n",
        "for i in range(5):\n",
        "    X_train = train_X\n",
        "    y_target = train_y\n",
        "\n",
        "    inner_cv = KFold(n_splits=4, shuffle=True, random_state=i)\n",
        "    outer_cv = KFold(n_splits=4, shuffle=True, random_state=i)\n",
        "    \n",
        "    xg_reg = GridSearchCV(estimator=xg, param_grid=xg_grid, cv=inner_cv,refit=True,scoring=scoring)\n",
        "    xg_reg.fit(X_train,y_target)\n",
        "    "
      ],
      "execution_count": null,
      "outputs": []
    },
    {
      "cell_type": "code",
      "metadata": {
        "colab": {
          "base_uri": "https://localhost:8080/"
        },
        "id": "LMYviNpZQO7S",
        "outputId": "685ac5b2-1bf8-46dc-db70-9d1df2423164"
      },
      "source": [
        "xg_reg.best_estimator_"
      ],
      "execution_count": null,
      "outputs": [
        {
          "output_type": "execute_result",
          "data": {
            "text/plain": [
              "XGBClassifier(base_score=0.5, booster='gbtree', colsample_bylevel=1,\n",
              "              colsample_bynode=1, colsample_bytree=0.5, gamma=0,\n",
              "              learning_rate=0.01, max_delta_step=0, max_depth=6,\n",
              "              min_child_weight=1, min_samples_split=2, missing=None,\n",
              "              n_estimators=1000, n_jobs=-1, nthread=-1,\n",
              "              objective='binary:logistic', random_state=42, reg_alpha=0.2,\n",
              "              reg_lambda=1, scale_pos_weight=1, seed=None, silent=None,\n",
              "              subsample=0.7, tree_method='gpu_hist', verbosity=1)"
            ]
          },
          "metadata": {
            "tags": []
          },
          "execution_count": 38
        }
      ]
    },
    {
      "cell_type": "code",
      "metadata": {
        "id": "lTYD3Vi_D7bV",
        "colab": {
          "base_uri": "https://localhost:8080/"
        },
        "outputId": "57d87f7f-9332-43d8-cd24-8f43e0b2a386"
      },
      "source": [
        "xg_reg.get_params"
      ],
      "execution_count": null,
      "outputs": [
        {
          "output_type": "execute_result",
          "data": {
            "text/plain": [
              "<bound method BaseEstimator.get_params of GridSearchCV(cv=KFold(n_splits=4, random_state=4, shuffle=True),\n",
              "             error_score=nan,\n",
              "             estimator=XGBClassifier(base_score=0.5, booster='gbtree',\n",
              "                                     colsample_bylevel=1, colsample_bynode=1,\n",
              "                                     colsample_bytree=1, gamma=0,\n",
              "                                     learning_rate=0.1, max_delta_step=0,\n",
              "                                     max_depth=3, min_child_weight=1,\n",
              "                                     missing=None, n_estimators=100, n_jobs=1,\n",
              "                                     nthread=None, objective='binary:logistic',\n",
              "                                     rand...\n",
              "                         'learning_rate': [0.01], 'max_depth': [6],\n",
              "                         'min_samples_split': [2],\n",
              "                         'n_estimators': array([ 500,  750,  860,  710, 1000]),\n",
              "                         'n_jobs': [-1], 'nthread': [-1],\n",
              "                         'objective': ['binary:logistic'], 'random_state': [42],\n",
              "                         'reg_alpha': [0.2, 0.5, 1.1, 1.3],\n",
              "                         'scale_pos_weight': [1], 'subsample': [0.7, 0.9],\n",
              "                         'tree_method': ['gpu_hist']},\n",
              "             pre_dispatch='2*n_jobs', refit=True, return_train_score=False,\n",
              "             scoring=None, verbose=0)>"
            ]
          },
          "metadata": {
            "tags": []
          },
          "execution_count": 39
        }
      ]
    },
    {
      "cell_type": "code",
      "metadata": {
        "id": "ty74qBSNbGrK"
      },
      "source": [
        "#Creating final submission Df\n",
        "test1 = pd.read_csv('test.csv.zip', compression='zip', header=0, sep=',', quotechar='\"')\n",
        "sub_df =  pd.DataFrame({\"ID_code\":test1[\"ID_code\"].values})\n",
        "predictions = xg_reg.predict(test_X)\n",
        "sub_df[\"target\"] = predictions\n",
        "sub_df.to_csv(\"xg.csv\", index=False)"
      ],
      "execution_count": null,
      "outputs": []
    }
  ]
}