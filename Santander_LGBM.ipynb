{
  "nbformat": 4,
  "nbformat_minor": 0,
  "metadata": {
    "colab": {
      "name": "Santander-LGBM.ipynb",
      "provenance": [],
      "collapsed_sections": [
        "7jPkc2oZKGUK",
        "nsS7Ds8uXMu2",
        "MhBSxw03-vgO",
        "EGtWIGK5-s6j",
        "6RAxqN8pIe3H"
      ],
      "machine_shape": "hm"
    },
    "kernelspec": {
      "name": "python3",
      "display_name": "Python 3"
    },
    "language_info": {
      "name": "python"
    },
    "accelerator": "GPU"
  },
  "cells": [
    {
      "cell_type": "markdown",
      "metadata": {
        "id": "7jPkc2oZKGUK"
      },
      "source": [
        "###Data Importing"
      ]
    },
    {
      "cell_type": "code",
      "metadata": {
        "id": "7RxtoqsVGyX7"
      },
      "source": [
        "import sys\n",
        "import gc\n",
        "import os\n",
        "import numpy as np\n",
        "import pandas as pd\n",
        "import lightgbm as lgb\n",
        "from scipy.stats import rankdata\n",
        "from sklearn.metrics import roc_auc_score\n",
        "from sklearn.model_selection import StratifiedKFold\n",
        "from sklearn.ensemble import RandomForestClassifier\n",
        "from sklearn.model_selection import StratifiedKFold\n",
        "from sklearn.preprocessing import StandardScaler\n",
        "from multiprocessing import cpu_count\n",
        "from tqdm import tqdm\n",
        "import seaborn as sns"
      ],
      "execution_count": null,
      "outputs": []
    },
    {
      "cell_type": "code",
      "metadata": {
        "colab": {
          "base_uri": "https://localhost:8080/"
        },
        "id": "wOg-ljZR8-LP",
        "outputId": "3ef31b24-06ff-4024-ae7a-78a836f9f241"
      },
      "source": [
        "#Attaching google Drive\n",
        "from google.colab import drive\n",
        "drive.mount('/content/drive')"
      ],
      "execution_count": null,
      "outputs": [
        {
          "output_type": "stream",
          "text": [
            "Mounted at /content/drive\n"
          ],
          "name": "stdout"
        }
      ]
    },
    {
      "cell_type": "code",
      "metadata": {
        "colab": {
          "resources": {
            "http://localhost:8080/nbextensions/google.colab/files.js": {
              "data": "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",
              "ok": true,
              "headers": [
                [
                  "content-type",
                  "application/javascript"
                ]
              ],
              "status": 200,
              "status_text": ""
            }
          },
          "base_uri": "https://localhost:8080/",
          "height": 73
        },
        "id": "oALrW63JbX7p",
        "outputId": "48343e8e-237a-4d03-9e69-d9d572c1ff64"
      },
      "source": [
        "#Uploading the Kaggle authentication file\n",
        "from google.colab import files\n",
        "\n",
        "uploaded = files.upload()"
      ],
      "execution_count": null,
      "outputs": [
        {
          "output_type": "display_data",
          "data": {
            "text/html": [
              "\n",
              "     <input type=\"file\" id=\"files-5ce7a53b-7a64-40f5-b16d-47f1f3079906\" name=\"files[]\" multiple disabled\n",
              "        style=\"border:none\" />\n",
              "     <output id=\"result-5ce7a53b-7a64-40f5-b16d-47f1f3079906\">\n",
              "      Upload widget is only available when the cell has been executed in the\n",
              "      current browser session. Please rerun this cell to enable.\n",
              "      </output>\n",
              "      <script src=\"/nbextensions/google.colab/files.js\"></script> "
            ],
            "text/plain": [
              "<IPython.core.display.HTML object>"
            ]
          },
          "metadata": {
            "tags": []
          }
        },
        {
          "output_type": "stream",
          "text": [
            "Saving kaggle.json to kaggle.json\n"
          ],
          "name": "stdout"
        }
      ]
    },
    {
      "cell_type": "code",
      "metadata": {
        "colab": {
          "base_uri": "https://localhost:8080/"
        },
        "id": "P6Bf2pArG9_1",
        "outputId": "f2f0a8f2-1981-4d39-baec-1e16bab5ce31"
      },
      "source": [
        "#Verifying file upload\n",
        "for fn in uploaded.keys():\n",
        "  print('User uploaded file \"{name}\" with length {length} bytes'.format(\n",
        "      name=fn, length=len(uploaded[fn])))\n",
        "  \n",
        "#Moving kaggle.json into directory from where data is read\n",
        "!mkdir -p ~/.kaggle/ && mv kaggle.json ~/.kaggle/ && chmod 600 ~/.kaggle/kaggle.json"
      ],
      "execution_count": null,
      "outputs": [
        {
          "output_type": "stream",
          "text": [
            "User uploaded file \"kaggle.json\" with length 71 bytes\n",
            "mv: cannot stat 'kaggle.json': No such file or directory\n"
          ],
          "name": "stdout"
        }
      ]
    },
    {
      "cell_type": "code",
      "metadata": {
        "colab": {
          "base_uri": "https://localhost:8080/"
        },
        "id": "gpDNX76xHFrM",
        "outputId": "c206b439-8374-4524-c052-b0dc9f8b29dd"
      },
      "source": [
        "#getting files from kaggle\n",
        "!kaggle competitions download -c 'santander-customery-transaction-prediction'"
      ],
      "execution_count": null,
      "outputs": [
        {
          "output_type": "stream",
          "text": [
            "Warning: Looks like you're using an outdated API Version, please consider updating (server 1.5.12 / client 1.5.4)\n",
            "sample_submission.csv.zip: Skipping, found more recently modified local copy (use --force to force download)\n",
            "train.csv.zip: Skipping, found more recently modified local copy (use --force to force download)\n",
            "test.csv.zip: Skipping, found more recently modified local copy (use --force to force download)\n"
          ],
          "name": "stdout"
        }
      ]
    },
    {
      "cell_type": "code",
      "metadata": {
        "colab": {
          "base_uri": "https://localhost:8080/"
        },
        "id": "KdYVhspgHK0f",
        "outputId": "3e96e925-afc3-499c-e50d-1cde78a6553e"
      },
      "source": [
        "#unzipping files\n",
        "!unzip train.csv.zip\n",
        "!unzip test.csv.zip"
      ],
      "execution_count": null,
      "outputs": [
        {
          "output_type": "stream",
          "text": [
            "Archive:  train.csv.zip\n",
            "  inflating: train.csv               \n",
            "Archive:  test.csv.zip\n",
            "  inflating: test.csv                \n"
          ],
          "name": "stdout"
        }
      ]
    },
    {
      "cell_type": "code",
      "metadata": {
        "id": "QpZqd88cHOcC"
      },
      "source": [
        "#reading in the data\n",
        "train = pd.read_csv('train.csv')\n",
        "test = pd.read_csv('test.csv')\n",
        "train_cp = train.copy()\n",
        "test_cp = test.copy()"
      ],
      "execution_count": null,
      "outputs": []
    },
    {
      "cell_type": "code",
      "metadata": {
        "id": "ixMKyw_dHRvG"
      },
      "source": [
        "#Creating training and testing sets from the data\n",
        "train_y = train_cp['target'].values\n",
        "train_X_column_name = train_cp.drop(['target', 'ID_code'], axis=1).columns\n",
        "train_X = train_cp.drop(['target', 'ID_code'], axis=1).values\n",
        "test_X = test_cp.drop(['ID_code'], axis=1).values"
      ],
      "execution_count": null,
      "outputs": []
    },
    {
      "cell_type": "code",
      "metadata": {
        "id": "nlgh1AEMIHkj"
      },
      "source": [
        "#Creating for model exploration\n",
        "train_df = train.copy()\n",
        "test_df = test.copy()\n"
      ],
      "execution_count": null,
      "outputs": []
    },
    {
      "cell_type": "code",
      "metadata": {
        "id": "9HxBZu5O-5va"
      },
      "source": [
        ""
      ],
      "execution_count": null,
      "outputs": []
    },
    {
      "cell_type": "markdown",
      "metadata": {
        "id": "nsS7Ds8uXMu2"
      },
      "source": [
        "###Feature Engineering"
      ]
    },
    {
      "cell_type": "code",
      "metadata": {
        "id": "uG-UxIw9_IpZ"
      },
      "source": [
        "#Declaring augmentation file location\n",
        "py_file_location = \"/content/drive/MyDrive/Colab Notebooks\"\n",
        "sys.path.append(os.path.abspath(py_file_location))\n",
        "\n",
        "#Importing the augment function from the file\n",
        "from augmentation import augment"
      ],
      "execution_count": null,
      "outputs": []
    },
    {
      "cell_type": "code",
      "metadata": {
        "id": "nnDE_xdCM4na"
      },
      "source": [
        "#Creating Real and  Synthetic Samples for test data (Removing Fake Data)\n",
        "tmp_test = test_df.drop(['ID_code'], axis=1).values\n",
        "\n",
        "unique_count = np.zeros_like(tmp_test)\n",
        "for ft in range(tmp_test.shape[1]):\n",
        "    _, index_, count_ = np.unique(tmp_test[:, ft],  \\\n",
        "                                  return_index=True, return_counts=True)\n",
        "    unique_count[index_[count_ == 1], ft] += 1\n",
        "\n",
        "real_samples = np.argwhere(np.sum(unique_count, axis=1) > 0)[:, 0]\n",
        "synthetic_samples = np.argwhere(np.sum(unique_count, axis=1) == 0)[:, 0]\n"
      ],
      "execution_count": null,
      "outputs": []
    },
    {
      "cell_type": "code",
      "metadata": {
        "colab": {
          "base_uri": "https://localhost:8080/"
        },
        "id": "-cw3biB7XRvH",
        "outputId": "d8875d93-ba59-4ce2-b452-2a99c0e2982d"
      },
      "source": [
        "print('real test:', len(real_samples))\n",
        "print('syn test:', len(synthetic_samples))"
      ],
      "execution_count": null,
      "outputs": [
        {
          "output_type": "stream",
          "text": [
            "real test: 100000\n",
            "syn test: 100000\n"
          ],
          "name": "stdout"
        }
      ]
    },
    {
      "cell_type": "code",
      "metadata": {
        "colab": {
          "base_uri": "https://localhost:8080/"
        },
        "id": "GZ3dzZeqXp_N",
        "outputId": "807b0f62-a529-4807-f9af-430089168add"
      },
      "source": [
        "#Data upsampled check\n",
        "print('train',train_df.shape)\n",
        "print('test',test_df.shape)"
      ],
      "execution_count": null,
      "outputs": [
        {
          "output_type": "stream",
          "text": [
            "train (200000, 202)\n",
            "test (200000, 201)\n"
          ],
          "name": "stdout"
        }
      ]
    },
    {
      "cell_type": "code",
      "metadata": {
        "id": "_9cuEhqjNpK2"
      },
      "source": [
        "#Increasing the number of features to improve model\n",
        "features = [col for col in train_df.columns if col.startswith('var')]\n",
        "df_all = pd.concat([train_df, test_df.iloc[real_samples]])\n",
        "\n",
        "for feat in features:\n",
        "  temp = df_all[feat].value_counts(dropna=True)\n",
        "\n",
        "  train_df[feat + 'vc'] = train_df[feat].map(temp) .map(lambda \\\n",
        "                                                        x: min(10, x)).astype(np.uint8)\n",
        "  test_df[feat + 'vc'] = test_df[feat].map(temp).map(lambda \\\n",
        "                                                     x: min(10, x)).astype(np.uint8)\n",
        "\n",
        "  train_df[feat + 'sum'] = ((train_df[feat] - df_all[feat].mean()) * \\\n",
        "                            train_df[feat + 'vc'].map(lambda x: int(x > 1))).astype(np.float32)\n",
        "  test_df[feat + 'sum'] = ((test_df[feat] - df_all[feat].mean()) * \\\n",
        "                           test_df[feat + 'vc'].map(lambda x: int(x > 1))).astype(np.float32)\n",
        "\n",
        "  train_df[feat + 'sum2'] = ((train_df[feat]) *  \\\n",
        "                             train_df[feat + 'vc'].map(lambda  \\x: int(x > 2))).astype(np.float32)\n",
        "  test_df[feat + 'sum2'] = ((test_df[feat]) *  \\\n",
        "                            test_df[feat + 'vc'].map(lambda x: int(x > 2))).astype(np.float32)\n",
        "\n",
        "  train_df[feat + 'sum3'] = ((train_df[feat]) *  \\\n",
        "                             train_df[feat + 'vc'].map(lambda x: int(x > 4))).astype(np.float32)\n",
        "  test_df[feat + 'sum3'] = ((test_df[feat]) *  \\\n",
        "                            test_df[feat + 'vc'].map(lambda x: int(x > 4))).astype(np.float32)"
      ],
      "execution_count": null,
      "outputs": []
    },
    {
      "cell_type": "code",
      "metadata": {
        "colab": {
          "base_uri": "https://localhost:8080/"
        },
        "id": "8GwoLIgyYE0x",
        "outputId": "c478bc8d-b3e5-4497-802e-7469d1c39395"
      },
      "source": [
        "#After Increasing the number of features\n",
        "print('train',train_df.shape)\n",
        "print('test',test_df.shape)"
      ],
      "execution_count": null,
      "outputs": [
        {
          "output_type": "stream",
          "text": [
            "train (200000, 1002)\n",
            "test (200000, 1001)\n"
          ],
          "name": "stdout"
        }
      ]
    },
    {
      "cell_type": "markdown",
      "metadata": {
        "id": "MhBSxw03-vgO"
      },
      "source": [
        "### Finding Best Parameters with GridSearch"
      ]
    },
    {
      "cell_type": "code",
      "metadata": {
        "colab": {
          "base_uri": "https://localhost:8080/"
        },
        "id": "bQEDPC_heTj5",
        "outputId": "3364a0e5-98bb-433d-d0ac-b5f33885cd95"
      },
      "source": [
        "#training and testing data\n",
        "predictors = train_df.columns.to_list()[2:]\n",
        "X_test = test_df[predictors]\n",
        "\n",
        "n_splits = 5\n",
        "k_fold = StratifiedKFold(n_splits=5, shuffle=True, random_state=42)\n",
        "\n",
        "object_of = train_df[['ID_code', 'target']]\n",
        "object_of['predict'] = 0\n",
        "predictions = test_df[['ID_code']]\n",
        "val_aucs = []\n",
        "feature_importance_df = pd.DataFrame()\n"
      ],
      "execution_count": null,
      "outputs": [
        {
          "output_type": "stream",
          "text": [
            "/usr/local/lib/python3.7/dist-packages/ipykernel_launcher.py:9: SettingWithCopyWarning: \n",
            "A value is trying to be set on a copy of a slice from a DataFrame.\n",
            "Try using .loc[row_indexer,col_indexer] = value instead\n",
            "\n",
            "See the caveats in the documentation: https://pandas.pydata.org/pandas-docs/stable/user_guide/indexing.html#returning-a-view-versus-a-copy\n",
            "  if __name__ == '__main__':\n"
          ],
          "name": "stderr"
        }
      ]
    },
    {
      "cell_type": "code",
      "metadata": {
        "id": "bvpryPdYefzn"
      },
      "source": [
        "for fold, (trn_ind, val_ind) in enumerate(k_fold.split(train_df, train_df.target.values)):\n",
        "  X_train, y_train = train_df.iloc[trn_ind][predictors], train_df.iloc[trn_ind]['target']\n",
        "  X_valid, y_valid = train_df.iloc[val_ind][predictors], train_df.iloc[val_ind]['target']"
      ],
      "execution_count": null,
      "outputs": []
    },
    {
      "cell_type": "code",
      "metadata": {
        "id": "FSjkAfUWbcUP"
      },
      "source": [
        "#Parameters for searching\n",
        "SEED =[50]\n",
        "\n",
        "gbdt_param = {\n",
        "    'objective': ['binary'],\n",
        "    'boosting': ['gbdt','dart'],\n",
        "    'learning_rate': [0.01,0.05,0.1],\n",
        "    'num_leaves': [15,30,45],\n",
        "    'tree_learner': ['serial'],\n",
        "    'num_threads': [-1],\n",
        "    'seed': SEED,\n",
        "\n",
        "    'max_depth': [-1],\n",
        "    'min_data_in_leaf': [50],\n",
        "    'min_sum_hessian_in_leaf': [10],\n",
        "    'bagging_fraction': [0.4,0.6,0.8,0.5],\n",
        "    'bagging_freq': [2,5,10,15],\n",
        "    'feature_fraction': [0.05,0.1,0.5],\n",
        "    'lambda_l1': [1],\n",
        "    'bagging_seed': SEED,\n",
        "\n",
        "    'verbosity': [1],\n",
        "    'boost_from_average': [False],\n",
        "    'metric': ['auc']\n",
        "}\n",
        "\n",
        "scoring = 'roc_auc'"
      ],
      "execution_count": null,
      "outputs": []
    },
    {
      "cell_type": "code",
      "metadata": {
        "colab": {
          "base_uri": "https://localhost:8080/"
        },
        "id": "wNWahjPehymR",
        "outputId": "f58efaa9-e981-4eef-cbb6-628b0a2ed407"
      },
      "source": [
        "from sklearn.model_selection import GridSearchCV, cross_val_score, KFold\n",
        "gkf = KFold(n_splits=5, shuffle=True, random_state=42)\n",
        "\n",
        "lgb_estimator = lgb.LGBMClassifier( objective='binary', \\\n",
        "                                   num_boost_round=2000, \\\n",
        "                                   learning_rate=0.01, metric='auc')\n",
        "\n",
        "gsearch = GridSearchCV(estimator=lgb_estimator, \\\n",
        "                       param_grid=gbdt_param, cv=gkf,refit=True)\n",
        "lgb_model = gsearch.fit(X_train,y_train)"
      ],
      "execution_count": null,
      "outputs": [
        {
          "output_type": "stream",
          "text": [
            "/usr/local/lib/python3.7/dist-packages/lightgbm/engine.py:118: UserWarning: Found `num_boost_round` in params. Will use it instead of argument\n",
            "  warnings.warn(\"Found `{}` in params. Will use it instead of argument\".format(alias))\n"
          ],
          "name": "stderr"
        }
      ]
    },
    {
      "cell_type": "markdown",
      "metadata": {
        "id": "EGtWIGK5-s6j"
      },
      "source": [
        "###Final Model training"
      ]
    },
    {
      "cell_type": "code",
      "metadata": {
        "id": "n_p5vnd5SGPF"
      },
      "source": [
        "#Using the best parameters found by GridSearchCV\n",
        "SEED = 40\n",
        "gbdt_param = {\n",
        "    'objective': 'binary',\n",
        "    'boosting': 'gbdt',\n",
        "    'learning_rate': 0.01,\n",
        "    'num_leaves': 15,\n",
        "    'tree_learner': 'serial',\n",
        "    'num_threads': 8,\n",
        "    'seed': SEED,\n",
        "    'max_depth': -1,\n",
        "    'min_data_in_leaf': 50,\n",
        "    'min_sum_hessian_in_leaf': 10,\n",
        "    'bagging_fraction': 0.6,\n",
        "    'bagging_freq': 5,\n",
        "    'feature_fraction': 0.05,\n",
        "    'lambda_l1': 1.,\n",
        "    'bagging_seed': SEED,\n",
        "    'verbosity': 1,\n",
        "    'boost_from_average': False,\n",
        "    'metric': 'auc'\n",
        "\n",
        "}"
      ],
      "execution_count": null,
      "outputs": []
    },
    {
      "cell_type": "code",
      "metadata": {
        "colab": {
          "base_uri": "https://localhost:8080/"
        },
        "id": "BwMI0NSHTyru",
        "outputId": "a46f2fde-bbef-4ff6-f22c-adae1ba3302e"
      },
      "source": [
        "predictors = train_df.columns.to_list()[2:]\n",
        "X_test = test_df[predictors]\n",
        "\n",
        "n_splits = 5\n",
        "k_fold = StratifiedKFold(n_splits=5, shuffle=True, random_state=SEED)\n",
        "\n",
        "object_of = train_df[['ID_code', 'target']]\n",
        "object_of['predict'] = 0\n",
        "predictions = test_df[['ID_code']]\n",
        "\n",
        "\n"
      ],
      "execution_count": null,
      "outputs": [
        {
          "output_type": "stream",
          "text": [
            "/usr/local/lib/python3.7/dist-packages/ipykernel_launcher.py:8: SettingWithCopyWarning: \n",
            "A value is trying to be set on a copy of a slice from a DataFrame.\n",
            "Try using .loc[row_indexer,col_indexer] = value instead\n",
            "\n",
            "See the caveats in the documentation: https://pandas.pydata.org/pandas-docs/stable/user_guide/indexing.html#returning-a-view-versus-a-copy\n",
            "  \n"
          ],
          "name": "stderr"
        }
      ]
    },
    {
      "cell_type": "code",
      "metadata": {
        "colab": {
          "base_uri": "https://localhost:8080/"
        },
        "id": "YyqTDW-IVumY",
        "outputId": "cd45f370-4b32-4342-9fe9-cc7c84ebd6dc"
      },
      "source": [
        "#Training the model\n",
        "for fold, (trn_ind, val_ind) in enumerate(k_fold.split(train_df, train_df.target.values)):\n",
        "    X_train, y_train = train_df.iloc[trn_ind][predictors], train_df.iloc[trn_ind]['target']\n",
        "    X_valid, y_valid = train_df.iloc[val_ind][predictors], train_df.iloc[val_ind]['target']\n",
        "    \n",
        "    pred_valid,pred_y = 0,0\n",
        "    auc_scores = []\n",
        "    \n",
        "    print('\\nFold {} - N {}'.format(fold +1, 1+1))\n",
        "    aug_x_t, aug_y_t = augment(X_train.values, y_train.values)\n",
        "    weights = np.array([0.8] * X_t.shape[0])\n",
        "    weights[:X_train.shape[0]] = 1.0\n",
        "\n",
        "    aug_x_t = pd.DataFrame(aug_x_t)\n",
        "    aug_x_t = Xaug_x_t_t.add_prefix('var_')\n",
        "\n",
        "    data_training = lgb.Dataset(aug_x_t, label=y_t, weight=weights)\n",
        "    data_validation = lgb.Dataset(X_valid, label=y_valid)\n",
        "    eval_results = {}\n",
        "    lgb_clf = lgb.train(gbdt_param,\n",
        "                        data_training,\n",
        "                        10000,\n",
        "                        valid_sets = [data_training, data_validation],\n",
        "                        early_stopping_rounds=3000,\n",
        "                        verbose_eval = 500,\n",
        "                        evals_result=eval_results\n",
        "                       )\n",
        "    pred_valid += lgb_clf.predict(X_valid)\n",
        "    pred_y += lgb_clf.predict(X_test)\n",
        "\n",
        "    df_fld_imp = pd.DataFrame()\n",
        "    fold_importance_df[\"feature\"] = predictors\n",
        "    fold_importance_df[\"importance\"] = lgb_clf.feature_importance()\n",
        "    fold_importance_df[\"fold\"] = fold + 1\n",
        "\n",
        "    df_feat_imp = pd.DataFrame()\n",
        "    df_feat_imp = pd.concat([df_feat_imp, df_fld_imp], axis=0)\n",
        "\n",
        "    object_of['predict'][val_ind] = pred_valid/1\n",
        "    val_score = roc_auc_score(y_valid, pred_valid)\n",
        "    auc_scores.append(val_score)\n",
        "    \n",
        "    predictions['fold{}'.format(fold+1)] = pred_y/1"
      ],
      "execution_count": null,
      "outputs": [
        {
          "output_type": "stream",
          "text": [
            "\n",
            "Fold 1 - N 1\n",
            "Training until validation scores don't improve for 3000 rounds.\n",
            "[500]\ttraining's auc: 0.951015\tvalid_1's auc: 0.874454\n",
            "[1000]\ttraining's auc: 0.9597\tvalid_1's auc: 0.890503\n",
            "[1500]\ttraining's auc: 0.965021\tvalid_1's auc: 0.90089\n",
            "[2000]\ttraining's auc: 0.968826\tvalid_1's auc: 0.908236\n",
            "[2500]\ttraining's auc: 0.971596\tvalid_1's auc: 0.912964\n",
            "[3000]\ttraining's auc: 0.973783\tvalid_1's auc: 0.916534\n",
            "[3500]\ttraining's auc: 0.975523\tvalid_1's auc: 0.919115\n",
            "[4000]\ttraining's auc: 0.976946\tvalid_1's auc: 0.920994\n",
            "[4500]\ttraining's auc: 0.97818\tvalid_1's auc: 0.922301\n",
            "[5000]\ttraining's auc: 0.979264\tvalid_1's auc: 0.923363\n",
            "[5500]\ttraining's auc: 0.980275\tvalid_1's auc: 0.924236\n",
            "[6000]\ttraining's auc: 0.981166\tvalid_1's auc: 0.924881\n",
            "[6500]\ttraining's auc: 0.982009\tvalid_1's auc: 0.925218\n",
            "[7000]\ttraining's auc: 0.982798\tvalid_1's auc: 0.925688\n",
            "[7500]\ttraining's auc: 0.983555\tvalid_1's auc: 0.925946\n",
            "[8000]\ttraining's auc: 0.984292\tvalid_1's auc: 0.926143\n",
            "[8500]\ttraining's auc: 0.985008\tvalid_1's auc: 0.92627\n",
            "[9000]\ttraining's auc: 0.985697\tvalid_1's auc: 0.926312\n",
            "[9500]\ttraining's auc: 0.986374\tvalid_1's auc: 0.926358\n",
            "[10000]\ttraining's auc: 0.987023\tvalid_1's auc: 0.926346\n",
            "Did not meet early stopping. Best iteration is:\n",
            "[10000]\ttraining's auc: 0.987023\tvalid_1's auc: 0.926346\n"
          ],
          "name": "stdout"
        },
        {
          "output_type": "stream",
          "text": [
            "/usr/local/lib/python3.7/dist-packages/ipykernel_launcher.py:38: SettingWithCopyWarning: \n",
            "A value is trying to be set on a copy of a slice from a DataFrame\n",
            "\n",
            "See the caveats in the documentation: https://pandas.pydata.org/pandas-docs/stable/user_guide/indexing.html#returning-a-view-versus-a-copy\n",
            "/usr/local/lib/python3.7/dist-packages/pandas/core/series.py:1060: SettingWithCopyWarning: \n",
            "A value is trying to be set on a copy of a slice from a DataFrame\n",
            "\n",
            "See the caveats in the documentation: https://pandas.pydata.org/pandas-docs/stable/user_guide/indexing.html#returning-a-view-versus-a-copy\n",
            "  self._set_labels(key, value)\n",
            "/usr/local/lib/python3.7/dist-packages/IPython/core/interactiveshell.py:2882: SettingWithCopyWarning: \n",
            "A value is trying to be set on a copy of a slice from a DataFrame\n",
            "\n",
            "See the caveats in the documentation: https://pandas.pydata.org/pandas-docs/stable/user_guide/indexing.html#returning-a-view-versus-a-copy\n",
            "  exec(code_obj, self.user_global_ns, self.user_ns)\n",
            "/usr/local/lib/python3.7/dist-packages/ipykernel_launcher.py:42: SettingWithCopyWarning: \n",
            "A value is trying to be set on a copy of a slice from a DataFrame.\n",
            "Try using .loc[row_indexer,col_indexer] = value instead\n",
            "\n",
            "See the caveats in the documentation: https://pandas.pydata.org/pandas-docs/stable/user_guide/indexing.html#returning-a-view-versus-a-copy\n"
          ],
          "name": "stderr"
        },
        {
          "output_type": "stream",
          "text": [
            "\n",
            "Fold 2 - N 1\n",
            "Training until validation scores don't improve for 3000 rounds.\n",
            "[500]\ttraining's auc: 0.951548\tvalid_1's auc: 0.859882\n",
            "[1000]\ttraining's auc: 0.960394\tvalid_1's auc: 0.877487\n",
            "[1500]\ttraining's auc: 0.965628\tvalid_1's auc: 0.888678\n",
            "[2000]\ttraining's auc: 0.969445\tvalid_1's auc: 0.896966\n",
            "[2500]\ttraining's auc: 0.972229\tvalid_1's auc: 0.903045\n",
            "[3000]\ttraining's auc: 0.974334\tvalid_1's auc: 0.907135\n",
            "[3500]\ttraining's auc: 0.976049\tvalid_1's auc: 0.910195\n",
            "[4000]\ttraining's auc: 0.977461\tvalid_1's auc: 0.912251\n",
            "[4500]\ttraining's auc: 0.978667\tvalid_1's auc: 0.913984\n",
            "[5000]\ttraining's auc: 0.979755\tvalid_1's auc: 0.915294\n",
            "[5500]\ttraining's auc: 0.980715\tvalid_1's auc: 0.916253\n",
            "[6000]\ttraining's auc: 0.981591\tvalid_1's auc: 0.916971\n",
            "[6500]\ttraining's auc: 0.982407\tvalid_1's auc: 0.917528\n",
            "[7000]\ttraining's auc: 0.983185\tvalid_1's auc: 0.917897\n",
            "[7500]\ttraining's auc: 0.983926\tvalid_1's auc: 0.918245\n",
            "[8000]\ttraining's auc: 0.984649\tvalid_1's auc: 0.918555\n",
            "[8500]\ttraining's auc: 0.985363\tvalid_1's auc: 0.918779\n",
            "[9000]\ttraining's auc: 0.986052\tvalid_1's auc: 0.918979\n",
            "[9500]\ttraining's auc: 0.986723\tvalid_1's auc: 0.919056\n",
            "[10000]\ttraining's auc: 0.987371\tvalid_1's auc: 0.919222\n",
            "Did not meet early stopping. Best iteration is:\n",
            "[10000]\ttraining's auc: 0.987371\tvalid_1's auc: 0.919222\n"
          ],
          "name": "stdout"
        },
        {
          "output_type": "stream",
          "text": [
            "/usr/local/lib/python3.7/dist-packages/ipykernel_launcher.py:38: SettingWithCopyWarning: \n",
            "A value is trying to be set on a copy of a slice from a DataFrame\n",
            "\n",
            "See the caveats in the documentation: https://pandas.pydata.org/pandas-docs/stable/user_guide/indexing.html#returning-a-view-versus-a-copy\n",
            "/usr/local/lib/python3.7/dist-packages/pandas/core/series.py:1060: SettingWithCopyWarning: \n",
            "A value is trying to be set on a copy of a slice from a DataFrame\n",
            "\n",
            "See the caveats in the documentation: https://pandas.pydata.org/pandas-docs/stable/user_guide/indexing.html#returning-a-view-versus-a-copy\n",
            "  self._set_labels(key, value)\n",
            "/usr/local/lib/python3.7/dist-packages/IPython/core/interactiveshell.py:2882: SettingWithCopyWarning: \n",
            "A value is trying to be set on a copy of a slice from a DataFrame\n",
            "\n",
            "See the caveats in the documentation: https://pandas.pydata.org/pandas-docs/stable/user_guide/indexing.html#returning-a-view-versus-a-copy\n",
            "  exec(code_obj, self.user_global_ns, self.user_ns)\n",
            "/usr/local/lib/python3.7/dist-packages/ipykernel_launcher.py:42: SettingWithCopyWarning: \n",
            "A value is trying to be set on a copy of a slice from a DataFrame.\n",
            "Try using .loc[row_indexer,col_indexer] = value instead\n",
            "\n",
            "See the caveats in the documentation: https://pandas.pydata.org/pandas-docs/stable/user_guide/indexing.html#returning-a-view-versus-a-copy\n"
          ],
          "name": "stderr"
        },
        {
          "output_type": "stream",
          "text": [
            "\n",
            "Fold 3 - N 1\n",
            "Training until validation scores don't improve for 3000 rounds.\n",
            "[500]\ttraining's auc: 0.951346\tvalid_1's auc: 0.869163\n",
            "[1000]\ttraining's auc: 0.959925\tvalid_1's auc: 0.885842\n",
            "[1500]\ttraining's auc: 0.965257\tvalid_1's auc: 0.896398\n",
            "[2000]\ttraining's auc: 0.969061\tvalid_1's auc: 0.903793\n",
            "[2500]\ttraining's auc: 0.97184\tvalid_1's auc: 0.909148\n",
            "[3000]\ttraining's auc: 0.973948\tvalid_1's auc: 0.913023\n",
            "[3500]\ttraining's auc: 0.975703\tvalid_1's auc: 0.915683\n",
            "[4000]\ttraining's auc: 0.977097\tvalid_1's auc: 0.917551\n",
            "[4500]\ttraining's auc: 0.978337\tvalid_1's auc: 0.919027\n",
            "[5000]\ttraining's auc: 0.97941\tvalid_1's auc: 0.92005\n",
            "[5500]\ttraining's auc: 0.980382\tvalid_1's auc: 0.920852\n",
            "[6000]\ttraining's auc: 0.981292\tvalid_1's auc: 0.921453\n",
            "[6500]\ttraining's auc: 0.982136\tvalid_1's auc: 0.921978\n",
            "[7000]\ttraining's auc: 0.982932\tvalid_1's auc: 0.922312\n",
            "[7500]\ttraining's auc: 0.983685\tvalid_1's auc: 0.92258\n",
            "[8000]\ttraining's auc: 0.984435\tvalid_1's auc: 0.922723\n",
            "[8500]\ttraining's auc: 0.985148\tvalid_1's auc: 0.922831\n",
            "[9000]\ttraining's auc: 0.985828\tvalid_1's auc: 0.922895\n",
            "[9500]\ttraining's auc: 0.986488\tvalid_1's auc: 0.922957\n",
            "[10000]\ttraining's auc: 0.987135\tvalid_1's auc: 0.923021\n",
            "Did not meet early stopping. Best iteration is:\n",
            "[10000]\ttraining's auc: 0.987135\tvalid_1's auc: 0.923021\n"
          ],
          "name": "stdout"
        },
        {
          "output_type": "stream",
          "text": [
            "/usr/local/lib/python3.7/dist-packages/ipykernel_launcher.py:38: SettingWithCopyWarning: \n",
            "A value is trying to be set on a copy of a slice from a DataFrame\n",
            "\n",
            "See the caveats in the documentation: https://pandas.pydata.org/pandas-docs/stable/user_guide/indexing.html#returning-a-view-versus-a-copy\n",
            "/usr/local/lib/python3.7/dist-packages/pandas/core/series.py:1060: SettingWithCopyWarning: \n",
            "A value is trying to be set on a copy of a slice from a DataFrame\n",
            "\n",
            "See the caveats in the documentation: https://pandas.pydata.org/pandas-docs/stable/user_guide/indexing.html#returning-a-view-versus-a-copy\n",
            "  self._set_labels(key, value)\n",
            "/usr/local/lib/python3.7/dist-packages/IPython/core/interactiveshell.py:2882: SettingWithCopyWarning: \n",
            "A value is trying to be set on a copy of a slice from a DataFrame\n",
            "\n",
            "See the caveats in the documentation: https://pandas.pydata.org/pandas-docs/stable/user_guide/indexing.html#returning-a-view-versus-a-copy\n",
            "  exec(code_obj, self.user_global_ns, self.user_ns)\n",
            "/usr/local/lib/python3.7/dist-packages/ipykernel_launcher.py:42: SettingWithCopyWarning: \n",
            "A value is trying to be set on a copy of a slice from a DataFrame.\n",
            "Try using .loc[row_indexer,col_indexer] = value instead\n",
            "\n",
            "See the caveats in the documentation: https://pandas.pydata.org/pandas-docs/stable/user_guide/indexing.html#returning-a-view-versus-a-copy\n"
          ],
          "name": "stderr"
        },
        {
          "output_type": "stream",
          "text": [
            "\n",
            "Fold 4 - N 1\n",
            "Training until validation scores don't improve for 3000 rounds.\n",
            "[500]\ttraining's auc: 0.950892\tvalid_1's auc: 0.870614\n",
            "[1000]\ttraining's auc: 0.95987\tvalid_1's auc: 0.88558\n",
            "[1500]\ttraining's auc: 0.965291\tvalid_1's auc: 0.895816\n",
            "[2000]\ttraining's auc: 0.969077\tvalid_1's auc: 0.903557\n",
            "[2500]\ttraining's auc: 0.971791\tvalid_1's auc: 0.908804\n",
            "[3000]\ttraining's auc: 0.974001\tvalid_1's auc: 0.912658\n",
            "[3500]\ttraining's auc: 0.975703\tvalid_1's auc: 0.915312\n",
            "[4000]\ttraining's auc: 0.977102\tvalid_1's auc: 0.917238\n",
            "[4500]\ttraining's auc: 0.978329\tvalid_1's auc: 0.918893\n",
            "[5000]\ttraining's auc: 0.979394\tvalid_1's auc: 0.920081\n",
            "[5500]\ttraining's auc: 0.980371\tvalid_1's auc: 0.920944\n",
            "[6000]\ttraining's auc: 0.98127\tvalid_1's auc: 0.921635\n",
            "[6500]\ttraining's auc: 0.982111\tvalid_1's auc: 0.922202\n",
            "[7000]\ttraining's auc: 0.982909\tvalid_1's auc: 0.922636\n",
            "[7500]\ttraining's auc: 0.983676\tvalid_1's auc: 0.922962\n",
            "[8000]\ttraining's auc: 0.984423\tvalid_1's auc: 0.923207\n",
            "[8500]\ttraining's auc: 0.985142\tvalid_1's auc: 0.923422\n",
            "[9000]\ttraining's auc: 0.985831\tvalid_1's auc: 0.923575\n",
            "[9500]\ttraining's auc: 0.986513\tvalid_1's auc: 0.923671\n",
            "[10000]\ttraining's auc: 0.987161\tvalid_1's auc: 0.923713\n",
            "Did not meet early stopping. Best iteration is:\n",
            "[10000]\ttraining's auc: 0.987161\tvalid_1's auc: 0.923713\n"
          ],
          "name": "stdout"
        },
        {
          "output_type": "stream",
          "text": [
            "/usr/local/lib/python3.7/dist-packages/ipykernel_launcher.py:38: SettingWithCopyWarning: \n",
            "A value is trying to be set on a copy of a slice from a DataFrame\n",
            "\n",
            "See the caveats in the documentation: https://pandas.pydata.org/pandas-docs/stable/user_guide/indexing.html#returning-a-view-versus-a-copy\n",
            "/usr/local/lib/python3.7/dist-packages/pandas/core/series.py:1060: SettingWithCopyWarning: \n",
            "A value is trying to be set on a copy of a slice from a DataFrame\n",
            "\n",
            "See the caveats in the documentation: https://pandas.pydata.org/pandas-docs/stable/user_guide/indexing.html#returning-a-view-versus-a-copy\n",
            "  self._set_labels(key, value)\n",
            "/usr/local/lib/python3.7/dist-packages/IPython/core/interactiveshell.py:2882: SettingWithCopyWarning: \n",
            "A value is trying to be set on a copy of a slice from a DataFrame\n",
            "\n",
            "See the caveats in the documentation: https://pandas.pydata.org/pandas-docs/stable/user_guide/indexing.html#returning-a-view-versus-a-copy\n",
            "  exec(code_obj, self.user_global_ns, self.user_ns)\n",
            "/usr/local/lib/python3.7/dist-packages/ipykernel_launcher.py:42: SettingWithCopyWarning: \n",
            "A value is trying to be set on a copy of a slice from a DataFrame.\n",
            "Try using .loc[row_indexer,col_indexer] = value instead\n",
            "\n",
            "See the caveats in the documentation: https://pandas.pydata.org/pandas-docs/stable/user_guide/indexing.html#returning-a-view-versus-a-copy\n"
          ],
          "name": "stderr"
        },
        {
          "output_type": "stream",
          "text": [
            "\n",
            "Fold 5 - N 1\n",
            "Training until validation scores don't improve for 3000 rounds.\n",
            "[500]\ttraining's auc: 0.951059\tvalid_1's auc: 0.867644\n",
            "[1000]\ttraining's auc: 0.960012\tvalid_1's auc: 0.884072\n",
            "[1500]\ttraining's auc: 0.965355\tvalid_1's auc: 0.89448\n",
            "[2000]\ttraining's auc: 0.969098\tvalid_1's auc: 0.902019\n",
            "[2500]\ttraining's auc: 0.971822\tvalid_1's auc: 0.907624\n",
            "[3000]\ttraining's auc: 0.974009\tvalid_1's auc: 0.911432\n",
            "[3500]\ttraining's auc: 0.975694\tvalid_1's auc: 0.914227\n",
            "[4000]\ttraining's auc: 0.977098\tvalid_1's auc: 0.916299\n",
            "[4500]\ttraining's auc: 0.978295\tvalid_1's auc: 0.917868\n",
            "[5000]\ttraining's auc: 0.979361\tvalid_1's auc: 0.919198\n",
            "[5500]\ttraining's auc: 0.980319\tvalid_1's auc: 0.920249\n",
            "[6000]\ttraining's auc: 0.981194\tvalid_1's auc: 0.921031\n",
            "[6500]\ttraining's auc: 0.982037\tvalid_1's auc: 0.921608\n",
            "[7000]\ttraining's auc: 0.98283\tvalid_1's auc: 0.922083\n",
            "[7500]\ttraining's auc: 0.983585\tvalid_1's auc: 0.922417\n",
            "[8000]\ttraining's auc: 0.984324\tvalid_1's auc: 0.922702\n",
            "[8500]\ttraining's auc: 0.985034\tvalid_1's auc: 0.922978\n",
            "[9000]\ttraining's auc: 0.98574\tvalid_1's auc: 0.923187\n",
            "[9500]\ttraining's auc: 0.986412\tvalid_1's auc: 0.923329\n",
            "[10000]\ttraining's auc: 0.987053\tvalid_1's auc: 0.923464\n",
            "Did not meet early stopping. Best iteration is:\n",
            "[10000]\ttraining's auc: 0.987053\tvalid_1's auc: 0.923464\n"
          ],
          "name": "stdout"
        },
        {
          "output_type": "stream",
          "text": [
            "/usr/local/lib/python3.7/dist-packages/ipykernel_launcher.py:38: SettingWithCopyWarning: \n",
            "A value is trying to be set on a copy of a slice from a DataFrame\n",
            "\n",
            "See the caveats in the documentation: https://pandas.pydata.org/pandas-docs/stable/user_guide/indexing.html#returning-a-view-versus-a-copy\n",
            "/usr/local/lib/python3.7/dist-packages/pandas/core/series.py:1060: SettingWithCopyWarning: \n",
            "A value is trying to be set on a copy of a slice from a DataFrame\n",
            "\n",
            "See the caveats in the documentation: https://pandas.pydata.org/pandas-docs/stable/user_guide/indexing.html#returning-a-view-versus-a-copy\n",
            "  self._set_labels(key, value)\n",
            "/usr/local/lib/python3.7/dist-packages/IPython/core/interactiveshell.py:2882: SettingWithCopyWarning: \n",
            "A value is trying to be set on a copy of a slice from a DataFrame\n",
            "\n",
            "See the caveats in the documentation: https://pandas.pydata.org/pandas-docs/stable/user_guide/indexing.html#returning-a-view-versus-a-copy\n",
            "  exec(code_obj, self.user_global_ns, self.user_ns)\n",
            "/usr/local/lib/python3.7/dist-packages/ipykernel_launcher.py:42: SettingWithCopyWarning: \n",
            "A value is trying to be set on a copy of a slice from a DataFrame.\n",
            "Try using .loc[row_indexer,col_indexer] = value instead\n",
            "\n",
            "See the caveats in the documentation: https://pandas.pydata.org/pandas-docs/stable/user_guide/indexing.html#returning-a-view-versus-a-copy\n"
          ],
          "name": "stderr"
        }
      ]
    },
    {
      "cell_type": "markdown",
      "metadata": {
        "id": "6RAxqN8pIe3H"
      },
      "source": [
        "###Submission DF"
      ]
    },
    {
      "cell_type": "code",
      "metadata": {
        "id": "FT5DHrdSYLqJ",
        "colab": {
          "base_uri": "https://localhost:8080/"
        },
        "outputId": "50e49c3d-2a46-448d-cb59-ea953f403821"
      },
      "source": [
        "predictions['target'] = np.mean(predictions[[col for col in predictions.columns if col not in ['ID_code','target']]].values, axis=1)\\\n",
        "predictions.to_csv('predictions.csv',index=None)\n"
      ],
      "execution_count": null,
      "outputs": [
        {
          "output_type": "stream",
          "text": [
            "/usr/local/lib/python3.7/dist-packages/ipykernel_launcher.py:1: SettingWithCopyWarning: \n",
            "A value is trying to be set on a copy of a slice from a DataFrame.\n",
            "Try using .loc[row_indexer,col_indexer] = value instead\n",
            "\n",
            "See the caveats in the documentation: https://pandas.pydata.org/pandas-docs/stable/user_guide/indexing.html#returning-a-view-versus-a-copy\n",
            "  \"\"\"Entry point for launching an IPython kernel.\n"
          ],
          "name": "stderr"
        }
      ]
    },
    {
      "cell_type": "code",
      "metadata": {
        "id": "jfSYJQNEkCFh"
      },
      "source": [
        "final_df = pd.DataFrame({'ID_code':test_df['ID_code'].values})\n",
        "final_df['target'] = predictions['target']\n",
        "final_df.to_csv(\"another_lgb_submission.csv\", index = False)"
      ],
      "execution_count": null,
      "outputs": []
    }
  ]
}