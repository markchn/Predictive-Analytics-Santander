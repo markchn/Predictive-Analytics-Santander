{
  "nbformat": 4,
  "nbformat_minor": 0,
  "metadata": {
    "colab": {
      "name": "Santander.ipynb",
      "provenance": [],
      "collapsed_sections": []
    },
    "kernelspec": {
      "name": "python3",
      "display_name": "Python 3"
    },
    "language_info": {
      "name": "python"
    },
    "widgets": {
      "application/vnd.jupyter.widget-state+json": {
        "33f12f8e59214fe494778a2a68fefe51": {
          "model_module": "@jupyter-widgets/controls",
          "model_name": "HBoxModel",
          "state": {
            "_view_name": "HBoxView",
            "_dom_classes": [],
            "_model_name": "HBoxModel",
            "_view_module": "@jupyter-widgets/controls",
            "_model_module_version": "1.5.0",
            "_view_count": null,
            "_view_module_version": "1.5.0",
            "box_style": "",
            "layout": "IPY_MODEL_40de089acb6e4e7f9d3f46ff0ee44278",
            "_model_module": "@jupyter-widgets/controls",
            "children": [
              "IPY_MODEL_76b45a747ee54a1198d643a186b322ac",
              "IPY_MODEL_2610b11d3eb349788f197218a9ad3107"
            ]
          }
        },
        "40de089acb6e4e7f9d3f46ff0ee44278": {
          "model_module": "@jupyter-widgets/base",
          "model_name": "LayoutModel",
          "state": {
            "_view_name": "LayoutView",
            "grid_template_rows": null,
            "right": null,
            "justify_content": null,
            "_view_module": "@jupyter-widgets/base",
            "overflow": null,
            "_model_module_version": "1.2.0",
            "_view_count": null,
            "flex_flow": null,
            "width": null,
            "min_width": null,
            "border": null,
            "align_items": null,
            "bottom": null,
            "_model_module": "@jupyter-widgets/base",
            "top": null,
            "grid_column": null,
            "overflow_y": null,
            "overflow_x": null,
            "grid_auto_flow": null,
            "grid_area": null,
            "grid_template_columns": null,
            "flex": null,
            "_model_name": "LayoutModel",
            "justify_items": null,
            "grid_row": null,
            "max_height": null,
            "align_content": null,
            "visibility": null,
            "align_self": null,
            "height": null,
            "min_height": null,
            "padding": null,
            "grid_auto_rows": null,
            "grid_gap": null,
            "max_width": null,
            "order": null,
            "_view_module_version": "1.2.0",
            "grid_template_areas": null,
            "object_position": null,
            "object_fit": null,
            "grid_auto_columns": null,
            "margin": null,
            "display": null,
            "left": null
          }
        },
        "76b45a747ee54a1198d643a186b322ac": {
          "model_module": "@jupyter-widgets/controls",
          "model_name": "FloatProgressModel",
          "state": {
            "_view_name": "ProgressView",
            "style": "IPY_MODEL_1e6df77b7e014d0b9045aead58856b89",
            "_dom_classes": [],
            "description": "100%",
            "_model_name": "FloatProgressModel",
            "bar_style": "success",
            "max": 200,
            "_view_module": "@jupyter-widgets/controls",
            "_model_module_version": "1.5.0",
            "value": 200,
            "_view_count": null,
            "_view_module_version": "1.5.0",
            "orientation": "horizontal",
            "min": 0,
            "description_tooltip": null,
            "_model_module": "@jupyter-widgets/controls",
            "layout": "IPY_MODEL_8d438ff0b08c442bb9b60eb1776bbc0d"
          }
        },
        "2610b11d3eb349788f197218a9ad3107": {
          "model_module": "@jupyter-widgets/controls",
          "model_name": "HTMLModel",
          "state": {
            "_view_name": "HTMLView",
            "style": "IPY_MODEL_6c8f4c0096ee42b381d80d9464a1af79",
            "_dom_classes": [],
            "description": "",
            "_model_name": "HTMLModel",
            "placeholder": "​",
            "_view_module": "@jupyter-widgets/controls",
            "_model_module_version": "1.5.0",
            "value": " 200/200 [00:08&lt;00:00, 23.22it/s]",
            "_view_count": null,
            "_view_module_version": "1.5.0",
            "description_tooltip": null,
            "_model_module": "@jupyter-widgets/controls",
            "layout": "IPY_MODEL_42118d6d9bca4c7fa015613ac9ee6f26"
          }
        },
        "1e6df77b7e014d0b9045aead58856b89": {
          "model_module": "@jupyter-widgets/controls",
          "model_name": "ProgressStyleModel",
          "state": {
            "_view_name": "StyleView",
            "_model_name": "ProgressStyleModel",
            "description_width": "initial",
            "_view_module": "@jupyter-widgets/base",
            "_model_module_version": "1.5.0",
            "_view_count": null,
            "_view_module_version": "1.2.0",
            "bar_color": null,
            "_model_module": "@jupyter-widgets/controls"
          }
        },
        "8d438ff0b08c442bb9b60eb1776bbc0d": {
          "model_module": "@jupyter-widgets/base",
          "model_name": "LayoutModel",
          "state": {
            "_view_name": "LayoutView",
            "grid_template_rows": null,
            "right": null,
            "justify_content": null,
            "_view_module": "@jupyter-widgets/base",
            "overflow": null,
            "_model_module_version": "1.2.0",
            "_view_count": null,
            "flex_flow": null,
            "width": null,
            "min_width": null,
            "border": null,
            "align_items": null,
            "bottom": null,
            "_model_module": "@jupyter-widgets/base",
            "top": null,
            "grid_column": null,
            "overflow_y": null,
            "overflow_x": null,
            "grid_auto_flow": null,
            "grid_area": null,
            "grid_template_columns": null,
            "flex": null,
            "_model_name": "LayoutModel",
            "justify_items": null,
            "grid_row": null,
            "max_height": null,
            "align_content": null,
            "visibility": null,
            "align_self": null,
            "height": null,
            "min_height": null,
            "padding": null,
            "grid_auto_rows": null,
            "grid_gap": null,
            "max_width": null,
            "order": null,
            "_view_module_version": "1.2.0",
            "grid_template_areas": null,
            "object_position": null,
            "object_fit": null,
            "grid_auto_columns": null,
            "margin": null,
            "display": null,
            "left": null
          }
        },
        "6c8f4c0096ee42b381d80d9464a1af79": {
          "model_module": "@jupyter-widgets/controls",
          "model_name": "DescriptionStyleModel",
          "state": {
            "_view_name": "StyleView",
            "_model_name": "DescriptionStyleModel",
            "description_width": "",
            "_view_module": "@jupyter-widgets/base",
            "_model_module_version": "1.5.0",
            "_view_count": null,
            "_view_module_version": "1.2.0",
            "_model_module": "@jupyter-widgets/controls"
          }
        },
        "42118d6d9bca4c7fa015613ac9ee6f26": {
          "model_module": "@jupyter-widgets/base",
          "model_name": "LayoutModel",
          "state": {
            "_view_name": "LayoutView",
            "grid_template_rows": null,
            "right": null,
            "justify_content": null,
            "_view_module": "@jupyter-widgets/base",
            "overflow": null,
            "_model_module_version": "1.2.0",
            "_view_count": null,
            "flex_flow": null,
            "width": null,
            "min_width": null,
            "border": null,
            "align_items": null,
            "bottom": null,
            "_model_module": "@jupyter-widgets/base",
            "top": null,
            "grid_column": null,
            "overflow_y": null,
            "overflow_x": null,
            "grid_auto_flow": null,
            "grid_area": null,
            "grid_template_columns": null,
            "flex": null,
            "_model_name": "LayoutModel",
            "justify_items": null,
            "grid_row": null,
            "max_height": null,
            "align_content": null,
            "visibility": null,
            "align_self": null,
            "height": null,
            "min_height": null,
            "padding": null,
            "grid_auto_rows": null,
            "grid_gap": null,
            "max_width": null,
            "order": null,
            "_view_module_version": "1.2.0",
            "grid_template_areas": null,
            "object_position": null,
            "object_fit": null,
            "grid_auto_columns": null,
            "margin": null,
            "display": null,
            "left": null
          }
        },
        "a300923eb3474cc886f95e51d5f49ebf": {
          "model_module": "@jupyter-widgets/controls",
          "model_name": "HBoxModel",
          "state": {
            "_view_name": "HBoxView",
            "_dom_classes": [],
            "_model_name": "HBoxModel",
            "_view_module": "@jupyter-widgets/controls",
            "_model_module_version": "1.5.0",
            "_view_count": null,
            "_view_module_version": "1.5.0",
            "box_style": "",
            "layout": "IPY_MODEL_d24f973b275a476997d8216f37f26ef8",
            "_model_module": "@jupyter-widgets/controls",
            "children": [
              "IPY_MODEL_282fb5de05f248d6b4862aee6fa28a30",
              "IPY_MODEL_cfea288ddac04418bc3042f14f513f3e"
            ]
          }
        },
        "d24f973b275a476997d8216f37f26ef8": {
          "model_module": "@jupyter-widgets/base",
          "model_name": "LayoutModel",
          "state": {
            "_view_name": "LayoutView",
            "grid_template_rows": null,
            "right": null,
            "justify_content": null,
            "_view_module": "@jupyter-widgets/base",
            "overflow": null,
            "_model_module_version": "1.2.0",
            "_view_count": null,
            "flex_flow": null,
            "width": null,
            "min_width": null,
            "border": null,
            "align_items": null,
            "bottom": null,
            "_model_module": "@jupyter-widgets/base",
            "top": null,
            "grid_column": null,
            "overflow_y": null,
            "overflow_x": null,
            "grid_auto_flow": null,
            "grid_area": null,
            "grid_template_columns": null,
            "flex": null,
            "_model_name": "LayoutModel",
            "justify_items": null,
            "grid_row": null,
            "max_height": null,
            "align_content": null,
            "visibility": null,
            "align_self": null,
            "height": null,
            "min_height": null,
            "padding": null,
            "grid_auto_rows": null,
            "grid_gap": null,
            "max_width": null,
            "order": null,
            "_view_module_version": "1.2.0",
            "grid_template_areas": null,
            "object_position": null,
            "object_fit": null,
            "grid_auto_columns": null,
            "margin": null,
            "display": null,
            "left": null
          }
        },
        "282fb5de05f248d6b4862aee6fa28a30": {
          "model_module": "@jupyter-widgets/controls",
          "model_name": "FloatProgressModel",
          "state": {
            "_view_name": "ProgressView",
            "style": "IPY_MODEL_9ae23eb18db84c2dbe9c3c214bf9fbd0",
            "_dom_classes": [],
            "description": "100%",
            "_model_name": "FloatProgressModel",
            "bar_style": "success",
            "max": 200,
            "_view_module": "@jupyter-widgets/controls",
            "_model_module_version": "1.5.0",
            "value": 200,
            "_view_count": null,
            "_view_module_version": "1.5.0",
            "orientation": "horizontal",
            "min": 0,
            "description_tooltip": null,
            "_model_module": "@jupyter-widgets/controls",
            "layout": "IPY_MODEL_c55bcbb897e34fa39969ccde6df8e747"
          }
        },
        "cfea288ddac04418bc3042f14f513f3e": {
          "model_module": "@jupyter-widgets/controls",
          "model_name": "HTMLModel",
          "state": {
            "_view_name": "HTMLView",
            "style": "IPY_MODEL_d8bd9d67014c43d1832847b20388afcd",
            "_dom_classes": [],
            "description": "",
            "_model_name": "HTMLModel",
            "placeholder": "​",
            "_view_module": "@jupyter-widgets/controls",
            "_model_module_version": "1.5.0",
            "value": " 200/200 [00:09&lt;00:00, 22.00it/s]",
            "_view_count": null,
            "_view_module_version": "1.5.0",
            "description_tooltip": null,
            "_model_module": "@jupyter-widgets/controls",
            "layout": "IPY_MODEL_778539d2b223436d8b21182e758840d5"
          }
        },
        "9ae23eb18db84c2dbe9c3c214bf9fbd0": {
          "model_module": "@jupyter-widgets/controls",
          "model_name": "ProgressStyleModel",
          "state": {
            "_view_name": "StyleView",
            "_model_name": "ProgressStyleModel",
            "description_width": "initial",
            "_view_module": "@jupyter-widgets/base",
            "_model_module_version": "1.5.0",
            "_view_count": null,
            "_view_module_version": "1.2.0",
            "bar_color": null,
            "_model_module": "@jupyter-widgets/controls"
          }
        },
        "c55bcbb897e34fa39969ccde6df8e747": {
          "model_module": "@jupyter-widgets/base",
          "model_name": "LayoutModel",
          "state": {
            "_view_name": "LayoutView",
            "grid_template_rows": null,
            "right": null,
            "justify_content": null,
            "_view_module": "@jupyter-widgets/base",
            "overflow": null,
            "_model_module_version": "1.2.0",
            "_view_count": null,
            "flex_flow": null,
            "width": null,
            "min_width": null,
            "border": null,
            "align_items": null,
            "bottom": null,
            "_model_module": "@jupyter-widgets/base",
            "top": null,
            "grid_column": null,
            "overflow_y": null,
            "overflow_x": null,
            "grid_auto_flow": null,
            "grid_area": null,
            "grid_template_columns": null,
            "flex": null,
            "_model_name": "LayoutModel",
            "justify_items": null,
            "grid_row": null,
            "max_height": null,
            "align_content": null,
            "visibility": null,
            "align_self": null,
            "height": null,
            "min_height": null,
            "padding": null,
            "grid_auto_rows": null,
            "grid_gap": null,
            "max_width": null,
            "order": null,
            "_view_module_version": "1.2.0",
            "grid_template_areas": null,
            "object_position": null,
            "object_fit": null,
            "grid_auto_columns": null,
            "margin": null,
            "display": null,
            "left": null
          }
        },
        "d8bd9d67014c43d1832847b20388afcd": {
          "model_module": "@jupyter-widgets/controls",
          "model_name": "DescriptionStyleModel",
          "state": {
            "_view_name": "StyleView",
            "_model_name": "DescriptionStyleModel",
            "description_width": "",
            "_view_module": "@jupyter-widgets/base",
            "_model_module_version": "1.5.0",
            "_view_count": null,
            "_view_module_version": "1.2.0",
            "_model_module": "@jupyter-widgets/controls"
          }
        },
        "778539d2b223436d8b21182e758840d5": {
          "model_module": "@jupyter-widgets/base",
          "model_name": "LayoutModel",
          "state": {
            "_view_name": "LayoutView",
            "grid_template_rows": null,
            "right": null,
            "justify_content": null,
            "_view_module": "@jupyter-widgets/base",
            "overflow": null,
            "_model_module_version": "1.2.0",
            "_view_count": null,
            "flex_flow": null,
            "width": null,
            "min_width": null,
            "border": null,
            "align_items": null,
            "bottom": null,
            "_model_module": "@jupyter-widgets/base",
            "top": null,
            "grid_column": null,
            "overflow_y": null,
            "overflow_x": null,
            "grid_auto_flow": null,
            "grid_area": null,
            "grid_template_columns": null,
            "flex": null,
            "_model_name": "LayoutModel",
            "justify_items": null,
            "grid_row": null,
            "max_height": null,
            "align_content": null,
            "visibility": null,
            "align_self": null,
            "height": null,
            "min_height": null,
            "padding": null,
            "grid_auto_rows": null,
            "grid_gap": null,
            "max_width": null,
            "order": null,
            "_view_module_version": "1.2.0",
            "grid_template_areas": null,
            "object_position": null,
            "object_fit": null,
            "grid_auto_columns": null,
            "margin": null,
            "display": null,
            "left": null
          }
        }
      }
    }
  },
  "cells": [
    {
      "cell_type": "code",
      "metadata": {
        "id": "X4IoljhIGVJN"
      },
      "source": [
        "##import modules\n",
        "\n",
        "import pandas as pd\n",
        "# Data processing\n",
        "import numpy as np\n",
        "import pandas as pd\n",
        "from tqdm import tqdm_notebook as tqdm\n",
        "from sklearn.ensemble import RandomForestClassifier\n",
        "from sklearn.preprocessing import StandardScaler\n",
        "from sklearn.decomposition import PCA\n",
        "from sklearn.model_selection import train_test_split, cross_val_score\n",
        "\n",
        "# Visualization\n",
        "import matplotlib.pyplot as plt\n",
        "import matplotlib.ticker as ticker\n",
        "import seaborn as sns\n",
        "\n",
        "##Load dataset\n",
        "train= pd.read_csv('/content/gdrive/My Drive/Santander/train.csv')\n",
        "test= pd.read_csv('/content/gdrive/My Drive/Santander/test.csv')\n",
        "\n",
        "#train = pd.read_csv('train.csv')\n",
        "#test = pd.read_csv('test.csv')"
      ],
      "execution_count": 16,
      "outputs": []
    },
    {
      "cell_type": "code",
      "metadata": {
        "colab": {
          "base_uri": "https://localhost:8080/"
        },
        "id": "yAmhY2KI_3A5",
        "outputId": "6a7fc568-20fc-446d-ecc6-e216594f63df"
      },
      "source": [
        "## Basic data exploration\n",
        "print(train.shape)\n",
        "print(train.head())\n",
        "print(test.shape)\n",
        "print(test.head())\n",
        "## train has 202 columns including 200 features and ID_code, target\n",
        "## test has 201 columns including 200 features and ID_code"
      ],
      "execution_count": 13,
      "outputs": [
        {
          "output_type": "stream",
          "text": [
            "(200000, 202)\n",
            "   ID_code  target    var_0   var_1  ...  var_196  var_197  var_198  var_199\n",
            "0  train_0       0   8.9255 -6.7863  ...   7.8784   8.5635  12.7803  -1.0914\n",
            "1  train_1       0  11.5006 -4.1473  ...   8.1267   8.7889  18.3560   1.9518\n",
            "2  train_2       0   8.6093 -2.7457  ...  -6.5213   8.2675  14.7222   0.3965\n",
            "3  train_3       0  11.0604 -2.1518  ...  -2.9275  10.2922  17.9697  -8.9996\n",
            "4  train_4       0   9.8369 -1.4834  ...   3.9267   9.5031  17.9974  -8.8104\n",
            "\n",
            "[5 rows x 202 columns]\n",
            "(200000, 201)\n",
            "  ID_code    var_0    var_1    var_2  ...  var_196  var_197  var_198  var_199\n",
            "0  test_0  11.0656   7.7798  12.9536  ...   4.3654  10.7200  15.4722  -8.7197\n",
            "1  test_1   8.5304   1.2543  11.3047  ...  -1.4852   9.8714  19.1293 -20.9760\n",
            "2  test_2   5.4827 -10.3581  10.1407  ...  -7.1086   7.0618  19.8956 -23.1794\n",
            "3  test_3   8.5374  -1.3222  12.0220  ...   3.9567   9.2295  13.0168  -4.2108\n",
            "4  test_4  11.7058  -0.1327  14.1295  ...  -5.1612   7.2882  13.9260  -9.1846\n",
            "\n",
            "[5 rows x 201 columns]\n"
          ],
          "name": "stdout"
        }
      ]
    },
    {
      "cell_type": "code",
      "metadata": {
        "colab": {
          "base_uri": "https://localhost:8080/",
          "height": 400
        },
        "id": "jpGtd5i-B0qP",
        "outputId": "92d54267-ce23-4278-f64f-3fb338e7dd19"
      },
      "source": [
        "print(train['target'].value_counts())\n",
        "sns.countplot(train['target'])\n",
        "\n",
        "## Heavy imbalance: 89.95% class 0 and 10.05% class 1 (transaction)"
      ],
      "execution_count": 14,
      "outputs": [
        {
          "output_type": "stream",
          "text": [
            "0    179902\n",
            "1     20098\n",
            "Name: target, dtype: int64\n"
          ],
          "name": "stdout"
        },
        {
          "output_type": "stream",
          "text": [
            "/usr/local/lib/python3.7/dist-packages/seaborn/_decorators.py:43: FutureWarning: Pass the following variable as a keyword arg: x. From version 0.12, the only valid positional argument will be `data`, and passing other arguments without an explicit keyword will result in an error or misinterpretation.\n",
            "  FutureWarning\n"
          ],
          "name": "stderr"
        },
        {
          "output_type": "execute_result",
          "data": {
            "text/plain": [
              "<matplotlib.axes._subplots.AxesSubplot at 0x7f484d6183d0>"
            ]
          },
          "metadata": {
            "tags": []
          },
          "execution_count": 14
        },
        {
          "output_type": "display_data",
          "data": {
            "image/png": "[encoded data removed]",
            "text/plain": [
              "<Figure size 432x288 with 1 Axes>"
            ]
          },
          "metadata": {
            "tags": [],
            "needs_background": "light"
          }
        }
      ]
    },
    {
      "cell_type": "code",
      "metadata": {
        "colab": {
          "base_uri": "https://localhost:8080/"
        },
        "id": "Ew4MjLAbBeqB",
        "outputId": "5087b29e-c460-4c54-b389-3967f3ba37e0"
      },
      "source": [
        "## Missing Values\n",
        "print(np.sum(np.sum(pd.isnull(train))))\n",
        "print(np.sum(np.sum(pd.isnull(test))))\n",
        "## No missing data in both training and testing dataset"
      ],
      "execution_count": null,
      "outputs": [
        {
          "output_type": "stream",
          "text": [
            "0\n",
            "0\n"
          ],
          "name": "stdout"
        }
      ]
    },
    {
      "cell_type": "code",
      "metadata": {
        "colab": {
          "base_uri": "https://localhost:8080/",
          "height": 501,
          "referenced_widgets": [
            "33f12f8e59214fe494778a2a68fefe51",
            "40de089acb6e4e7f9d3f46ff0ee44278",
            "76b45a747ee54a1198d643a186b322ac",
            "2610b11d3eb349788f197218a9ad3107",
            "1e6df77b7e014d0b9045aead58856b89",
            "8d438ff0b08c442bb9b60eb1776bbc0d",
            "6c8f4c0096ee42b381d80d9464a1af79",
            "42118d6d9bca4c7fa015613ac9ee6f26"
          ]
        },
        "id": "gc3WokVSOTQm",
        "outputId": "88d9d56b-3d48-4fb4-e5b7-a338c3dd9d75"
      },
      "source": [
        "## Unique values distribution\n",
        "# Test Data\n",
        "testing= test.drop(['ID_code'], axis=1)\n",
        "testing = testing.values\n",
        "\n",
        "unique = []\n",
        "uniquecount = np.full((200000, 201), 0)\n",
        "\n",
        "for feature in tqdm(range(testing.shape[1])):\n",
        "    _, index_, count_ = np.unique(testing[:, feature], return_counts=True, return_index=True)\n",
        "    uniquecount[index_[count_ == 1], feature] += 1\n",
        "\n",
        "testunique= pd.DataFrame(data=uniquecount)\n",
        "a= testunique.agg('sum',axis=\"columns\")\n",
        "\n",
        "sns.displot(a).set(title='Test Data').set(xlim=(0,80))"
      ],
      "execution_count": 17,
      "outputs": [
        {
          "output_type": "stream",
          "text": [
            "/usr/local/lib/python3.7/dist-packages/ipykernel_launcher.py:9: TqdmDeprecationWarning: This function will be removed in tqdm==5.0.0\n",
            "Please use `tqdm.notebook.tqdm` instead of `tqdm.tqdm_notebook`\n",
            "  if __name__ == '__main__':\n"
          ],
          "name": "stderr"
        },
        {
          "output_type": "display_data",
          "data": {
            "application/vnd.jupyter.widget-view+json": {
              "model_id": "33f12f8e59214fe494778a2a68fefe51",
              "version_minor": 0,
              "version_major": 2
            },
            "text/plain": [
              "HBox(children=(FloatProgress(value=0.0, max=200.0), HTML(value='')))"
            ]
          },
          "metadata": {
            "tags": []
          }
        },
        {
          "output_type": "stream",
          "text": [
            "\n"
          ],
          "name": "stdout"
        },
        {
          "output_type": "execute_result",
          "data": {
            "text/plain": [
              "<seaborn.axisgrid.FacetGrid at 0x7f484e627c10>"
            ]
          },
          "metadata": {
            "tags": []
          },
          "execution_count": 17
        },
        {
          "output_type": "display_data",
          "data": {
            "image/png": "[encoded data removed]",
            "text/plain": [
              "<Figure size 360x360 with 1 Axes>"
            ]
          },
          "metadata": {
            "tags": [],
            "needs_background": "light"
          }
        }
      ]
    },
    {
      "cell_type": "code",
      "metadata": {
        "id": "LwqFl2BVPJa0",
        "colab": {
          "base_uri": "https://localhost:8080/",
          "height": 501,
          "referenced_widgets": [
            "a300923eb3474cc886f95e51d5f49ebf",
            "d24f973b275a476997d8216f37f26ef8",
            "282fb5de05f248d6b4862aee6fa28a30",
            "cfea288ddac04418bc3042f14f513f3e",
            "9ae23eb18db84c2dbe9c3c214bf9fbd0",
            "c55bcbb897e34fa39969ccde6df8e747",
            "d8bd9d67014c43d1832847b20388afcd",
            "778539d2b223436d8b21182e758840d5"
          ]
        },
        "outputId": "946d714b-4347-43b6-8b41-ea212dc17656"
      },
      "source": [
        "# Train data\n",
        "training= train.drop(['ID_code','target'], axis=1)\n",
        "training = training.values\n",
        "\n",
        "unique = []\n",
        "uniquecount = np.full((200000, 201), 0)\n",
        "\n",
        "for feature in tqdm(range(training.shape[1])):\n",
        "    _, index_, count_ = np.unique(training[:, feature], return_counts=True, return_index=True)\n",
        "    uniquecount[index_[count_ == 1], feature] += 1\n",
        "\n",
        "trainunique= pd.DataFrame(data=uniquecount)\n",
        "a= trainunique.agg('sum',axis=\"columns\")\n",
        "\n",
        "sns.displot(a).set(title='Train Data').set(xlim=(0,80))"
      ],
      "execution_count": 18,
      "outputs": [
        {
          "output_type": "stream",
          "text": [
            "/usr/local/lib/python3.7/dist-packages/ipykernel_launcher.py:8: TqdmDeprecationWarning: This function will be removed in tqdm==5.0.0\n",
            "Please use `tqdm.notebook.tqdm` instead of `tqdm.tqdm_notebook`\n",
            "  \n"
          ],
          "name": "stderr"
        },
        {
          "output_type": "display_data",
          "data": {
            "application/vnd.jupyter.widget-view+json": {
              "model_id": "a300923eb3474cc886f95e51d5f49ebf",
              "version_minor": 0,
              "version_major": 2
            },
            "text/plain": [
              "HBox(children=(FloatProgress(value=0.0, max=200.0), HTML(value='')))"
            ]
          },
          "metadata": {
            "tags": []
          }
        },
        {
          "output_type": "stream",
          "text": [
            "\n"
          ],
          "name": "stdout"
        },
        {
          "output_type": "execute_result",
          "data": {
            "text/plain": [
              "<seaborn.axisgrid.FacetGrid at 0x7f484a7ec3d0>"
            ]
          },
          "metadata": {
            "tags": []
          },
          "execution_count": 18
        },
        {
          "output_type": "display_data",
          "data": {
            "image/png": "[encoded data removed]",
            "text/plain": [
              "<Figure size 360x360 with 1 Axes>"
            ]
          },
          "metadata": {
            "tags": [],
            "needs_background": "light"
          }
        }
      ]
    },
    {
      "cell_type": "code",
      "metadata": {
        "colab": {
          "base_uri": "https://localhost:8080/",
          "height": 643
        },
        "id": "GZfUGPABSJzK",
        "outputId": "02b7aa1a-21cd-4ab1-9614-37f26a6c283a"
      },
      "source": [
        "## Correlation analysis of variables for PCA\n",
        "plt.figure(figsize= (10,10))\n",
        "sns.heatmap(train.corr())\n",
        "\n",
        "# Very low to no correlation, independent variables"
      ],
      "execution_count": 19,
      "outputs": [
        {
          "output_type": "execute_result",
          "data": {
            "text/plain": [
              "<matplotlib.axes._subplots.AxesSubplot at 0x7f484e174c10>"
            ]
          },
          "metadata": {
            "tags": []
          },
          "execution_count": 19
        },
        {
          "output_type": "display_data",
          "data": {
            "image/png": "[encoded data removed]",
            "text/plain": [
              "<Figure size 720x720 with 2 Axes>"
            ]
          },
          "metadata": {
            "tags": [],
            "needs_background": "light"
          }
        }
      ]
    },
    {
      "cell_type": "code",
      "metadata": {
        "colab": {
          "base_uri": "https://localhost:8080/",
          "height": 404
        },
        "id": "xKyED0gsSe4-",
        "outputId": "22e34044-8971-4ca8-e5de-ae63dfd29995"
      },
      "source": [
        "##PCA\n",
        "# standardize data\n",
        "standard= StandardScaler().fit_transform(train.set_index(['ID_code','target']))\n",
        "\n",
        "# PCA\n",
        "pca = PCA(n_components=200, random_state=42)\n",
        "pca.fit(standard)\n",
        "\n",
        "plt.figure(figsize=(15,6))\n",
        "plt.plot(pca.explained_variance_ratio_[0:50])\n",
        "plt.title('Principal Component Analysis')\n",
        "plt.xticks(range(50))\n",
        "plt.xlabel('Number of features')\n",
        "plt.ylabel('Variance of each additional feature')\n",
        "plt.show()\n",
        "\n",
        "# Not much gained by reducing features, as each contribute very little variance"
      ],
      "execution_count": null,
      "outputs": [
        {
          "output_type": "display_data",
          "data": {
            "image/png": "[encoded data removed]",
            "text/plain": [
              "<Figure size 1080x432 with 1 Axes>"
            ]
          },
          "metadata": {
            "tags": [],
            "needs_background": "light"
          }
        }
      ]
    },
    {
      "cell_type": "code",
      "metadata": {
        "id": "2qIddthviosG",
        "colab": {
          "base_uri": "https://localhost:8080/"
        },
        "outputId": "b4c8be7c-b441-4cae-f1a5-d178bc4833bc"
      },
      "source": [
        "##Random Forest feature importance\n",
        "X = train.iloc[:, 2:]\n",
        "y = train['target']\n",
        "\n",
        "# train-test split\n",
        "X_train, X_val, y_train, y_val = train_test_split(X, y, test_size=0.20, random_state=42)\n",
        "\n",
        "# specify classifier\n",
        "rf_clf = RandomForestClassifier(n_estimators=100, n_jobs=-1)\n",
        "rf_clf.fit(X_train, y_train) "
      ],
      "execution_count": 22,
      "outputs": [
        {
          "output_type": "stream",
          "text": [
            "var_0 0.006577453961626683\n",
            "var_1 0.006315800866197792\n",
            "var_2 0.00681923976880677\n",
            "var_3 0.0042973862948137145\n",
            "var_4 0.004181182021571265\n",
            "var_5 0.0052264856758855605\n",
            "var_6 0.008132855838113667\n",
            "var_7 0.0038838012997088633\n",
            "var_8 0.003986603956284644\n",
            "var_9 0.005787413794776023\n",
            "var_10 0.003839875161218292\n",
            "var_11 0.004408662103525463\n",
            "var_12 0.009796521595253167\n",
            "var_13 0.006836713082319532\n",
            "var_14 0.0037756126443106667\n",
            "var_15 0.004247410213334893\n",
            "var_16 0.00405619977468387\n",
            "var_17 0.0037296331240593466\n",
            "var_18 0.005853156262826001\n",
            "var_19 0.004271456896327954\n",
            "var_20 0.00433706803494413\n",
            "var_21 0.006572814117279203\n",
            "var_22 0.007915706063139124\n",
            "var_23 0.004389953468700739\n",
            "var_24 0.004597213237006394\n",
            "var_25 0.003833912351724915\n",
            "var_26 0.008139374520900963\n",
            "var_27 0.0037423189195390297\n",
            "var_28 0.004499704908713744\n",
            "var_29 0.003855549163109154\n",
            "var_30 0.0038826700273000762\n",
            "var_31 0.0041190262142328325\n",
            "var_32 0.004684550964321181\n",
            "var_33 0.006073492556792413\n",
            "var_34 0.006204773946505639\n",
            "var_35 0.004802527969996689\n",
            "var_36 0.004826386541601899\n",
            "var_37 0.00408173505076818\n",
            "var_38 0.0038263178193288527\n",
            "var_39 0.003927594087571455\n",
            "var_40 0.006661828919400308\n",
            "var_41 0.004078542067906488\n",
            "var_42 0.003995232972153251\n",
            "var_43 0.004766644289636416\n",
            "var_44 0.006448790720784965\n",
            "var_45 0.0039220206163150225\n",
            "var_46 0.004116491053082856\n",
            "var_47 0.0037282207458974514\n",
            "var_48 0.004440867760104553\n",
            "var_49 0.004724485399288911\n",
            "var_50 0.0041593370449191785\n",
            "var_51 0.0050646286752910885\n",
            "var_52 0.004341070208464939\n",
            "var_53 0.008758198930580873\n",
            "var_54 0.003999362752645551\n",
            "var_55 0.004450879386660343\n",
            "var_56 0.005504841351663821\n",
            "var_57 0.0038787680837825806\n",
            "var_58 0.004364984455340103\n",
            "var_59 0.0040497811531737885\n",
            "var_60 0.004289818867506706\n",
            "var_61 0.0038721748932835287\n",
            "var_62 0.004081173698248592\n",
            "var_63 0.004369810233011042\n",
            "var_64 0.004100834177651146\n",
            "var_65 0.004024870480815115\n",
            "var_66 0.0042904876642391775\n",
            "var_67 0.005197188518860348\n",
            "var_68 0.004000777384107154\n",
            "var_69 0.004328820034442667\n",
            "var_70 0.0042739587132530005\n",
            "var_71 0.004697428276195735\n",
            "var_72 0.004055087086874527\n",
            "var_73 0.0038192391638396093\n",
            "var_74 0.0038399891398714324\n",
            "var_75 0.005511794785012626\n",
            "var_76 0.007389575004547986\n",
            "var_77 0.0038691077071115313\n",
            "var_78 0.00677442616291082\n",
            "var_79 0.004049108916692215\n",
            "var_80 0.007749458299467816\n",
            "var_81 0.012421626000648375\n",
            "var_82 0.0046070937079610045\n",
            "var_83 0.004608437090885769\n",
            "var_84 0.003981100128728275\n",
            "var_85 0.004653079848388019\n",
            "var_86 0.005447894387610509\n",
            "var_87 0.0046692576868454716\n",
            "var_88 0.004372683032069687\n",
            "var_89 0.0053061318203997485\n",
            "var_90 0.004377502786133207\n",
            "var_91 0.005596433084415544\n",
            "var_92 0.006161588772637177\n",
            "var_93 0.0049295877220489675\n",
            "var_94 0.006103021172273837\n",
            "var_95 0.005421801298689464\n",
            "var_96 0.004057368709621042\n",
            "var_97 0.004264100951481075\n",
            "var_98 0.003964413927839206\n",
            "var_99 0.007498084870326827\n",
            "var_100 0.003984010046736925\n",
            "var_101 0.003912023357300915\n",
            "var_102 0.004410069827969392\n",
            "var_103 0.0036944138002191476\n",
            "var_104 0.004281595726427221\n",
            "var_105 0.004571320827987833\n",
            "var_106 0.00488433285882556\n",
            "var_107 0.005289739457774788\n",
            "var_108 0.0060976230039710404\n",
            "var_109 0.007380955619986571\n",
            "var_110 0.00855055347577696\n",
            "var_111 0.004754696296602006\n",
            "var_112 0.004269701840498464\n",
            "var_113 0.004344859708324501\n",
            "var_114 0.0047105602398370815\n",
            "var_115 0.005772916881516492\n",
            "var_116 0.004335653012549056\n",
            "var_117 0.0041723308316765715\n",
            "var_118 0.004872158488962531\n",
            "var_119 0.005167158608530351\n",
            "var_120 0.0037262501875094255\n",
            "var_121 0.005546152767465713\n",
            "var_122 0.005407132910749054\n",
            "var_123 0.005539777069552195\n",
            "var_124 0.004160238145071784\n",
            "var_125 0.0048151555133916345\n",
            "var_126 0.003917983571966767\n",
            "var_127 0.005481716271896354\n",
            "var_128 0.0044519328435449835\n",
            "var_129 0.0037707236546545056\n",
            "var_130 0.005279822442849332\n",
            "var_131 0.004793228538604297\n",
            "var_132 0.004845650659754781\n",
            "var_133 0.007207231500735911\n",
            "var_134 0.004411264228749143\n",
            "var_135 0.004730085375951205\n",
            "var_136 0.003873763434184637\n",
            "var_137 0.0045332738181766575\n",
            "var_138 0.004221523395261132\n",
            "var_139 0.009471744488530814\n",
            "var_140 0.004111114263799132\n",
            "var_141 0.005083475025252535\n",
            "var_142 0.004108747045878909\n",
            "var_143 0.004217037195622021\n",
            "var_144 0.004359771429411328\n",
            "var_145 0.004960763147265409\n",
            "var_146 0.0082601240857414\n",
            "var_147 0.0053697044996335016\n",
            "var_148 0.0065059089152693485\n",
            "var_149 0.005063071335281067\n",
            "var_150 0.004573629331277927\n",
            "var_151 0.004722366052537744\n",
            "var_152 0.004159646803823731\n",
            "var_153 0.003920062984018803\n",
            "var_154 0.006177920115993492\n",
            "var_155 0.005210421813461176\n",
            "var_156 0.004270033255962958\n",
            "var_157 0.0051706196303423465\n",
            "var_158 0.0037142475247944466\n",
            "var_159 0.0038552985655591204\n",
            "var_160 0.003949237397321326\n",
            "var_161 0.00389996858079218\n",
            "var_162 0.004853544939389143\n",
            "var_163 0.005121249081357955\n",
            "var_164 0.006295306712119176\n",
            "var_165 0.006766508635228745\n",
            "var_166 0.007752424974344158\n",
            "var_167 0.004625975195403871\n",
            "var_168 0.004510063824901466\n",
            "var_169 0.00550817813592367\n",
            "var_170 0.00614863643019159\n",
            "var_171 0.004055350794537413\n",
            "var_172 0.00490265647374601\n",
            "var_173 0.004950554972898028\n",
            "var_174 0.008063333278519354\n",
            "var_175 0.004448420736270242\n",
            "var_176 0.0038837811385925825\n",
            "var_177 0.0060772212918087255\n",
            "var_178 0.004053792447962907\n",
            "var_179 0.006777790376636545\n",
            "var_180 0.005237345558290106\n",
            "var_181 0.004032252353269398\n",
            "var_182 0.0041286505404988195\n",
            "var_183 0.003972960475420955\n",
            "var_184 0.005669543604604361\n",
            "var_185 0.0037111281545479094\n",
            "var_186 0.004294580767219219\n",
            "var_187 0.004098325323490183\n",
            "var_188 0.005360885574693445\n",
            "var_189 0.0039870075554917506\n",
            "var_190 0.0064736202296552265\n",
            "var_191 0.005919305285609225\n",
            "var_192 0.004429824950746424\n",
            "var_193 0.004170596095211471\n",
            "var_194 0.0044154816953778965\n",
            "var_195 0.004607979955872547\n",
            "var_196 0.004345612504998096\n",
            "var_197 0.004987828476551778\n",
            "var_198 0.007100518463622947\n",
            "var_199 0.004139802172723944\n"
          ],
          "name": "stdout"
        }
      ]
    }
  ]
}